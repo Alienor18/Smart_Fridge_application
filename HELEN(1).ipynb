{
 "cells": [
  {
   "cell_type": "markdown",
   "metadata": {},
   "source": [
    "# INTRODUCING HELEN"
   ]
  },
  {
   "cell_type": "markdown",
   "metadata": {},
   "source": [
    "**FRieDGE, a smart fridge than can talk and hear. This user-friendly fridge leverages NLP, Voice Recognition and Computer vision to simplify user's cooking experience and allows them to gain moe autonomy. The interactions between the fridge and the users are enabled by \"Helen\", a voice-based AI-powered digital assistant**"
   ]
  },
  {
   "cell_type": "markdown",
   "metadata": {},
   "source": [
    "Helen requires a wide variety of functions to work, each of these functions are triggered by certain key words. Each function leverages a certain part of Natural Language Processing in order to carryout it's task\n",
    "\n",
    "We begin by introducing certain libraries and defining these functions"
   ]
  },
  {
   "cell_type": "markdown",
   "metadata": {},
   "source": [
    "**Importing libraries**"
   ]
  },
  {
   "cell_type": "code",
   "execution_count": 1,
   "metadata": {},
   "outputs": [],
   "source": [
    "import spacy\n",
    "import time\n",
    "import datetime\n",
    "import winsound\n",
    "import requests\n",
    "import speech_recognition as sr\n",
    "import pyaudio\n",
    "from gtts import gTTS\n",
    "import os\n",
    "import pywhatkit\n",
    "import pyautogui\n",
    "import urllib.request\n",
    "from urllib.request import urlopen\n",
    "import webbrowser\n",
    "import re\n",
    "import wikipedia\n",
    "from random import randint\n",
    "import pandas as pd\n",
    "import numpy as np\n",
    "from spacy import displacy\n",
    "nlp = spacy.load(\"en_core_web_lg\")"
   ]
  },
  {
   "cell_type": "markdown",
   "metadata": {},
   "source": [
    "**Sentiment Intensity Analyzer** "
   ]
  },
  {
   "cell_type": "markdown",
   "metadata": {},
   "source": [
    "Sentiment Intensity Analyser from NLTK enables us to determine the general sentiment of a given sentence by calculating it's polarity score and observing it's compound score"
   ]
  },
  {
   "cell_type": "code",
   "execution_count": 2,
   "metadata": {},
   "outputs": [],
   "source": [
    "from nltk.sentiment import SentimentIntensityAnalyzer\n",
    "sia = SentimentIntensityAnalyzer()"
   ]
  },
  {
   "cell_type": "markdown",
   "metadata": {},
   "source": [
    "**Countdown**\n",
    "\n",
    "in order to put a timer on lines of codes"
   ]
  },
  {
   "cell_type": "code",
   "execution_count": 3,
   "metadata": {},
   "outputs": [],
   "source": [
    "import time\n",
    "  \n",
    "# define the countdown func.\n",
    "def countdown(t):\n",
    "    \n",
    "    while t:\n",
    "        mins, secs = divmod(t, 60)\n",
    "        timer = '{:02d}:{:02d}'.format(mins, secs)\n",
    "        print(timer, end=\"\\r\")\n",
    "        time.sleep(1)\n",
    "        t -= 1\n",
    "      \n",
    "    #print('Fire in the hole!!')"
   ]
  },
  {
   "cell_type": "markdown",
   "metadata": {},
   "source": [
    "**Get weather api**\n",
    "\n",
    "In order to get real time weather updates of any city in the world we use the get weather api"
   ]
  },
  {
   "cell_type": "code",
   "execution_count": 4,
   "metadata": {},
   "outputs": [
    {
     "data": {
      "text/plain": [
       "'clear sky with temperature 20 celcius......... the minimum temperature for the day will be 19 celcius with maximum temperature 20 celcius'"
      ]
     },
     "execution_count": 4,
     "metadata": {},
     "output_type": "execute_result"
    }
   ],
   "source": [
    "api_key = \"0e9b7ea5779519b07e0dc07ebfb0d0e0\"\n",
    "\n",
    "def get_weather(city_name):\n",
    "    api_url = \"http://api.openweathermap.org/data/2.5/weather?q={}&appid={}\".format(city_name, api_key)\n",
    "\n",
    "    response = requests.get(api_url)\n",
    "    response_dict = response.json()\n",
    "\n",
    "    response_dict\n",
    "    weather = response_dict[\"weather\"][0][\"description\"]\n",
    "    temperature = str(round(response_dict['main']['temp'] - 273.15)) +' '+ 'celcius'\n",
    "    min_temp = str(round(response_dict['main']['temp_min'] - 273.15)) +' '+ 'celcius'\n",
    "    max_temp = str(round(response_dict['main']['temp_max'] - 273.15)) +' '+ 'celcius'\n",
    "\n",
    "    if response.status_code == 200:\n",
    "        return str(weather) +\" \"+'with temperature'+' '+str(temperature) + '......... ' + 'the minimum temperature for the day will be ' + str(min_temp) + ' ' + 'with maximum temperature ' + str(max_temp)\n",
    "    else:\n",
    "        print('[!] HTTP {0} calling [{1}]'.format(response.status_code, api_url))\n",
    "        return None\n",
    "\n",
    "get_weather('Madrid')"
   ]
  },
  {
   "cell_type": "markdown",
   "metadata": {},
   "source": [
    "**Chatbot function**\n",
    "\n",
    "A function to identify and extract entites labelled \"GPE\" in order to determine weather at given city"
   ]
  },
  {
   "cell_type": "code",
   "execution_count": 5,
   "metadata": {},
   "outputs": [],
   "source": [
    "def chatbot(statement):\n",
    "    \n",
    "    #weather = nlp(\"Current weather in a city\")\n",
    "    statement = nlp(statement)\n",
    "    print(statement)\n",
    "    #min_similarity = 0.0\n",
    "\n",
    "#if weather.similarity(statement) >= min_similarity:\n",
    "    for ent in statement.ents:\n",
    "        if ent.label_ == \"GPE\": # GeoPolitical Entity\n",
    "            city = ent.text\n",
    "            city_weather = get_weather(city)\n",
    "\n",
    "            if city_weather is not None:\n",
    "                return \"In \" + city + \", the current weather is: \" + city_weather\n",
    "            else:\n",
    "                return \"Something went wrong.\"\n",
    "\n",
    "            break\n",
    "        else:\n",
    "            print('NO GPE FOUND')\n",
    "            pass\n",
    "    \n",
    "    print('WEATHER BOT')\n",
    "    #print(city_weather)\n",
    "    print('----------')\n",
    "\n",
    "#chatbot('play middle child')"
   ]
  },
  {
   "cell_type": "markdown",
   "metadata": {},
   "source": [
    "**Redefining chatbot function**\n"
   ]
  },
  {
   "cell_type": "code",
   "execution_count": 6,
   "metadata": {},
   "outputs": [],
   "source": [
    "def chatbot2(statement):\n",
    "            #weather = nlp(\"Current weather in a city\")\n",
    "            statement = nlp(statement)\n",
    "            #min_similarity = 0.0\n",
    "\n",
    "            #if weather.similarity(statement) >= min_similarity:\n",
    "            for ent in statement.ents:\n",
    "                if ent.label_ == \"GPE\": # GeoPolitical Entity\n",
    "                    city = ent.text\n",
    "                    break\n",
    "                else:\n",
    "                    return \"You need to tell me a city to check.\"\n",
    "            city_weather = get_weather(city)\n",
    "            if (city_weather is not None) & (len(doc_token) < 1):\n",
    "                return \"In \" + city + \", the current weather is: \" + city_weather\n",
    "\n",
    "            elif (city_weather is not None) & (len(doc_token) >= 1) & (len(adj) >= 1) & (similarity_doc_adj < 0.55):\n",
    "                return \"No.... \"+\"in \" + city + \", the current weather is: \" + city_weather\n",
    "\n",
    "            elif (city_weather is not None) & (len(doc_token) >= 1) & (len(adj) >= 1) & (similarity_doc_adj > 0.55):\n",
    "                return \"Yes.... \"+\"in \" + city + \", the current weather is: \" + city_weather\n",
    "            else:\n",
    "                return \"Something went wrong.\"\n",
    "        #else:\n",
    "                #return \"Sorry I don't understand that. Please rephrase your statement.\"\n"
   ]
  },
  {
   "cell_type": "markdown",
   "metadata": {},
   "source": [
    "**Speech to text function to handle errors**\n",
    "\n",
    "As most chatbots such as Siri and Alexa, we leverage Speech Recogniation in order to convert audio to text for further analysis "
   ]
  },
  {
   "cell_type": "code",
   "execution_count": 7,
   "metadata": {},
   "outputs": [],
   "source": [
    "def recognize_speech_from_mic(recognizer, microphone):\n",
    "    \"\"\"Transcribe speech from recorded from `microphone`.\n",
    "\n",
    "    Returns a dictionary with three keys:\n",
    "    \"success\": a boolean indicating whether or not the API request was\n",
    "               successful\n",
    "    \"error\":   `None` if no error occured, otherwise a string containing\n",
    "               an error message if the API could not be reached or\n",
    "               speech was unrecognizable\n",
    "    \"transcription\": `None` if speech could not be transcribed,\n",
    "               otherwise a string containing the transcribed text\n",
    "    \"\"\"\n",
    "    # check that recognizer and microphone arguments are appropriate type\n",
    "    if not isinstance(recognizer, sr.Recognizer):\n",
    "        raise TypeError(\"`recognizer` must be `Recognizer` instance\")\n",
    "\n",
    "    if not isinstance(microphone, sr.Microphone):\n",
    "        raise TypeError(\"`microphone` must be `Microphone` instance\")\n",
    "\n",
    "    # adjust the recognizer sensitivity to ambient noise and record audio\n",
    "    # from the microphone\n",
    "    with microphone as source:\n",
    "        recognizer.adjust_for_ambient_noise(source)\n",
    "        audio = recognizer.record(source,duration=4)\n",
    "        \n",
    "    # set up the response object\n",
    "    response = {\n",
    "        \"success\": True,\n",
    "        \"error\": None,\n",
    "        \"transcription\": None\n",
    "    }\n",
    "\n",
    "    # try recognizing the speech in the recording\n",
    "    # if a RequestError or UnknownValueError exception is caught,\n",
    "    #     update the response object accordingly\n",
    "    try:\n",
    "        response[\"transcription\"] = recognizer.recognize_google(audio)\n",
    "    except sr.RequestError:\n",
    "        # API was unreachable or unresponsive\n",
    "        response[\"success\"] = False\n",
    "        response[\"error\"] = \"API unavailable\"\n",
    "    except sr.UnknownValueError:\n",
    "        # speech was unintelligible\n",
    "        response[\"error\"] = \"Unable to recognize speech\"\n",
    "\n",
    "    return response"
   ]
  },
  {
   "cell_type": "markdown",
   "metadata": {},
   "source": [
    "**Youtube function**\n",
    "\n",
    "In order to let the user play their music"
   ]
  },
  {
   "cell_type": "code",
   "execution_count": 8,
   "metadata": {},
   "outputs": [],
   "source": [
    "def youtube(x):\n",
    "    doc2 = x.lower()\n",
    "    doc2 = x.replace('play','')\n",
    "    search_keyword=doc2.replace(' ','')\n",
    "    html = urllib.request.urlopen(\"https://www.youtube.com/results?search_query=\" + search_keyword)\n",
    "    video_ids = re.findall(r\"watch\\?v=(\\S{11})\", html.read().decode())\n",
    "    print(\"https://www.youtube.com/watch?v=\" + video_ids[0])\n",
    "    webbrowser.open(f\"https://www.youtube.com/watch?v={video_ids[0]}\")"
   ]
  },
  {
   "cell_type": "markdown",
   "metadata": {},
   "source": [
    "**Adding new entity's to pipeline**\n",
    "\n",
    "Introducing kitchen ingredients as 'PRODUCT' entities so that they may be identified and extracted"
   ]
  },
  {
   "cell_type": "code",
   "execution_count": 9,
   "metadata": {},
   "outputs": [],
   "source": [
    "for ent in nlp('chicken').ents:\n",
    "    print(ent,ent.label_)"
   ]
  },
  {
   "cell_type": "code",
   "execution_count": 10,
   "metadata": {},
   "outputs": [],
   "source": [
    "from spacy.pipeline import EntityRuler"
   ]
  },
  {
   "cell_type": "code",
   "execution_count": 11,
   "metadata": {},
   "outputs": [],
   "source": [
    "df_ingrident = pd.read_excel('ingredient.xlsx')"
   ]
  },
  {
   "cell_type": "code",
   "execution_count": 12,
   "metadata": {},
   "outputs": [],
   "source": [
    "df_ingrident['Ingredient'] = df_ingrident['Ingredient'].apply(lambda x: x.lower())"
   ]
  },
  {
   "cell_type": "code",
   "execution_count": 13,
   "metadata": {},
   "outputs": [],
   "source": [
    "ingrident_list = list(df_ingrident['Ingredient'])"
   ]
  },
  {
   "cell_type": "code",
   "execution_count": 14,
   "metadata": {},
   "outputs": [
    {
     "name": "stdout",
     "output_type": "stream",
     "text": [
      "[('chicken', 'PRODUCT', 'Objects, vehicles, foods, etc. (not services)')]\n"
     ]
    }
   ],
   "source": [
    "ruler = nlp.add_pipe(\"entity_ruler\")\n",
    "patterns = [{\"label\": \"PRODUCT\", \"pattern\": str(i)} for i in ingrident_list]\n",
    "ruler.add_patterns(patterns)\n",
    "\n",
    "doc = nlp(\"We can cook with chicken.\")\n",
    "print([(ent.text, ent.label_,spacy.explain(ent.label_)) for ent in doc.ents])"
   ]
  },
  {
   "cell_type": "code",
   "execution_count": 15,
   "metadata": {},
   "outputs": [
    {
     "name": "stdout",
     "output_type": "stream",
     "text": [
      "chia seed\n"
     ]
    }
   ],
   "source": [
    "for ent in nlp('chia seed').ents:\n",
    "    print(ent)"
   ]
  },
  {
   "cell_type": "markdown",
   "metadata": {},
   "source": [
    "**Phone book dataframe for whatsapp**"
   ]
  },
  {
   "cell_type": "code",
   "execution_count": 3,
   "metadata": {},
   "outputs": [
    {
     "data": {
      "text/plain": [
       "{'Eleanor': '+34627166596', 'Jose Mario': '+34681226022'}"
      ]
     },
     "execution_count": 3,
     "metadata": {},
     "output_type": "execute_result"
    }
   ],
   "source": [
    "df_phone_code = pd.read_excel('codes.xlsx',sheet_name='Phone Codes')\n",
    "phone_codes = dict(zip(df_phone_code['Person'],df_phone_code['Phone Code']))\n",
    "phone_codes['Eleanor'] = '+34627166596'\n",
    "phone_codes['Jose Mario'] = '+34681226022'\n",
    "phone_codes"
   ]
  },
  {
   "cell_type": "markdown",
   "metadata": {},
   "source": [
    "**Whatsapp function**\n",
    "\n",
    "Identifying \"PERSON\" entity to whom the user wants to send a message"
   ]
  },
  {
   "cell_type": "code",
   "execution_count": 16,
   "metadata": {},
   "outputs": [],
   "source": [
    "def whatsapp(text):\n",
    "    \n",
    "    person = []\n",
    "    for ent in nlp(text).ents:\n",
    "        if ent.label_ == 'PERSON':\n",
    "            person.append(ent)\n",
    "            print(ent,ent.label_)\n",
    "    \n",
    "    mytext = \"what message would you like to send?\"\n",
    "    language = 'en'\n",
    "    myobj = gTTS(text=mytext, lang=language, slow=False)\n",
    "    myobj.save(\"whatsapp.mp3\")\n",
    "    os.system(\"whatsapp.mp3\")\n",
    "    countdown(4)\n",
    "    winsound.Beep(500, 200)\n",
    "    \n",
    "    init_rec = sr.Recognizer()\n",
    "    for i in range(100):\n",
    "            \n",
    "            guess = recognize_speech_from_mic(init_rec, sr.Microphone())\n",
    "            if guess[\"transcription\"]:\n",
    "                break\n",
    "            if not guess[\"success\"]:\n",
    "                break\n",
    "    \n",
    "   \n",
    "    mytext = \"sending\"\n",
    "    language = 'en'\n",
    "    myobj = gTTS(text=mytext, lang=language, slow=False)\n",
    "    myobj.save(\"whatsapp2.mp3\")\n",
    "    os.system(\"whatsapp2.mp3\")\n",
    "    countdown(2)\n",
    "  \n",
    "    hour = datetime.datetime.now().strftime('%H')\n",
    "\n",
    "    phone_no = str(phone_codes[str(person[0])])\n",
    "\n",
    "    message = guess[\"transcription\"]\n",
    "\n",
    "    time_hour = int(hour)\n",
    "\n",
    "    minute = str(int(datetime.datetime.now().strftime('%M')) + 1)\n",
    "    time_min = int(minute)\n",
    "\n",
    "    pywhatkit.sendwhatmsg(phone_no=phone_no,message=message,time_hour=time_hour,time_min=time_min)\n",
    "    \n",
    "    mytext = \"your message has been sent\"\n",
    "    language = 'en'\n",
    "    myobj = gTTS(text=mytext, lang=language, slow=False)\n",
    "\n",
    "    \n",
    "    myobj.save(\"whatsapp3.mp3\")\n",
    "    os.system(\"whatsapp3.mp3\")\n",
    "    countdown(4)"
   ]
  },
  {
   "cell_type": "markdown",
   "metadata": {},
   "source": [
    "**Ingredient dataframe for recipes**\n",
    "\n",
    "To indentify ingredients about to expire"
   ]
  },
  {
   "cell_type": "code",
   "execution_count": 17,
   "metadata": {},
   "outputs": [
    {
     "data": {
      "text/html": [
       "<div>\n",
       "<style scoped>\n",
       "    .dataframe tbody tr th:only-of-type {\n",
       "        vertical-align: middle;\n",
       "    }\n",
       "\n",
       "    .dataframe tbody tr th {\n",
       "        vertical-align: top;\n",
       "    }\n",
       "\n",
       "    .dataframe thead th {\n",
       "        text-align: right;\n",
       "    }\n",
       "</style>\n",
       "<table border=\"1\" class=\"dataframe\">\n",
       "  <thead>\n",
       "    <tr style=\"text-align: right;\">\n",
       "      <th></th>\n",
       "      <th>ingridents</th>\n",
       "      <th>exp_date</th>\n",
       "      <th>day_left</th>\n",
       "      <th>text</th>\n",
       "    </tr>\n",
       "  </thead>\n",
       "  <tbody>\n",
       "    <tr>\n",
       "      <th>0</th>\n",
       "      <td>chicken</td>\n",
       "      <td>2021-05-10</td>\n",
       "      <td>0</td>\n",
       "      <td>chicken in 0 days</td>\n",
       "    </tr>\n",
       "    <tr>\n",
       "      <th>1</th>\n",
       "      <td>coconut</td>\n",
       "      <td>2021-05-11</td>\n",
       "      <td>1</td>\n",
       "      <td>coconut in 1 days</td>\n",
       "    </tr>\n",
       "    <tr>\n",
       "      <th>2</th>\n",
       "      <td>milk</td>\n",
       "      <td>2021-05-09</td>\n",
       "      <td>0</td>\n",
       "      <td>milk in 0 days</td>\n",
       "    </tr>\n",
       "  </tbody>\n",
       "</table>\n",
       "</div>"
      ],
      "text/plain": [
       "  ingridents   exp_date day_left               text\n",
       "0    chicken 2021-05-10        0  chicken in 0 days\n",
       "1    coconut 2021-05-11        1  coconut in 1 days\n",
       "2       milk 2021-05-09        0     milk in 0 days"
      ]
     },
     "execution_count": 17,
     "metadata": {},
     "output_type": "execute_result"
    }
   ],
   "source": [
    "df_ingredient_exp = {'ingridents':['chicken','coconut','milk'],'exp_date':['2021-05-10','2021-05-11','2021-05-09']}\n",
    "df_ingredient_exp = pd.DataFrame(df_ingredient_exp)\n",
    "df_ingredient_exp['exp_date'] = df_ingredient_exp['exp_date'].astype('datetime64')\n",
    "df_ingredient_exp['day_left'] = df_ingredient_exp['exp_date'] - datetime.datetime.today() \n",
    "df_ingredient_exp['day_left'] = (df_ingredient_exp['day_left'] / np.timedelta64(1,'D')).astype(int) \n",
    "df_ingredient_exp['day_left'] = df_ingredient_exp['day_left'].astype(str)\n",
    "df_ingredient_exp['text'] = df_ingredient_exp['ingridents'] +' in '+df_ingredient_exp['day_left']+\" \"+'days'\n",
    "df_ingredient_exp    "
   ]
  },
  {
   "cell_type": "markdown",
   "metadata": {},
   "source": [
    "**Recipe function**\n",
    "\n",
    "Once ingredients have been identified, a corresponsing recepie is given"
   ]
  },
  {
   "cell_type": "code",
   "execution_count": 19,
   "metadata": {},
   "outputs": [],
   "source": [
    "def recipe_function():\n",
    "    \n",
    "    mytext = \"The following ingredients will expire in the coming days\" + str(list(df_ingredient_exp['text']))\n",
    "    language = 'en'\n",
    "    myobj = gTTS(text=mytext, lang=language, slow=False)\n",
    "    myobj.save(\"recipe_step1.mp3\")\n",
    "    os.system(\"recipe_step1.mp3\")\n",
    "    countdown(round(len(mytext)*0.1))\n",
    "\n",
    "           \n",
    "    mytext = \"what would you like to cook with?\"\n",
    "    language = 'en'\n",
    "    myobj = gTTS(text=mytext, lang=language, slow=False)\n",
    "    myobj.save(\"recipe_step2.mp3\")\n",
    "    os.system(\"recipe_step2.mp3\")\n",
    "    countdown(round(len(mytext)*0.095))\n",
    "    winsound.Beep(500, 200)\n",
    "    \n",
    "    #ok lets cook with\n",
    "    init_rec = sr.Recognizer() \n",
    "    for i in range(100):\n",
    "        print('Speak!')\n",
    "        guess = recognize_speech_from_mic(init_rec, sr.Microphone())\n",
    "        print(guess['transcription'])\n",
    "        if guess[\"transcription\"] and any(x in guess['transcription'].lower() for x in list(df_ingrident['Ingredient'])):\n",
    "            break\n",
    "            \n",
    "    for ent in nlp(guess['transcription']).ents:\n",
    "        df_recipe = pd.read_excel('recipes.xlsx',sheet_name=f\"{ent}\")\n",
    "    \n",
    "    #df_recipe['Instructions'].iloc[0] - recipe name\n",
    "    mytext = \"Would you like to cook \" + df_recipe['Instructions'].iloc[0]\n",
    "    language = 'en'\n",
    "    myobj = gTTS(text=mytext, lang=language, slow=False)\n",
    "    myobj.save(\"recipe_step3.mp3\")\n",
    "    os.system(\"recipe_step3.mp3\")\n",
    "    countdown(round(len(mytext)*0.095))\n",
    "    winsound.Beep(500, 200)\n",
    "    \n",
    "    #yes or no but in our case a definte yes\n",
    "    init_rec = sr.Recognizer() \n",
    "    for i in range(100):\n",
    "        print('Speak!')\n",
    "        guess = recognize_speech_from_mic(init_rec, sr.Microphone())\n",
    "        print(guess['transcription'])\n",
    "        if guess[\"transcription\"] and any(x in guess['transcription'].lower() for x in ['yes','do','it']):\n",
    "            break\n",
    "    \n",
    "    for num in range(1,len(df_recipe['Instructions'])):\n",
    "        recepie_loop = True\n",
    "        while recepie_loop:\n",
    "            mytext = df_recipe['Instructions'].iloc[num]\n",
    "            language = 'en'\n",
    "            myobj = gTTS(text=mytext, lang=language, slow=False)\n",
    "            myobj.save(f\"step{num}.mp3\")\n",
    "            os.system(f\"step{num}.mp3\")\n",
    "            countdown(round(len(mytext)*0.095))\n",
    "            winsound.Beep(500, 200)\n",
    "\n",
    "            if 'finally' in mytext:\n",
    "                recepie_loop = False\n",
    "                break\n",
    "\n",
    "            else:        \n",
    "                init_rec = sr.Recognizer() \n",
    "                for i in range(100):\n",
    "\n",
    "\n",
    "                    print('Speak!')\n",
    "                    guess = recognize_speech_from_mic(init_rec, sr.Microphone())\n",
    "                    print(guess['transcription'])\n",
    "                    if guess[\"transcription\"] and any(x in guess['transcription'].lower() for x in ['repeat','again']):\n",
    "                        os.system(\"repeat.mp3\")\n",
    "                        countdown(1)\n",
    "                        break\n",
    "\n",
    "                    if guess[\"transcription\"] and any(x in guess['transcription'].lower() for x in ['next','ok','okay']):\n",
    "                        break\n",
    "\n",
    "            if guess[\"transcription\"] and any(x in guess['transcription'].lower() for x in ['next','ok','okay']):\n",
    "                recepie_loop=False\n",
    "                os.system(\"next.mp3\")\n",
    "                #countdown(1)\n",
    "                break"
   ]
  },
  {
   "cell_type": "markdown",
   "metadata": {},
   "source": [
    "**Joke function**\n",
    "\n",
    "Using NLTK, we determine the sentiment of a gixen text"
   ]
  },
  {
   "cell_type": "code",
   "execution_count": 20,
   "metadata": {},
   "outputs": [],
   "source": [
    "def joke(text):\n",
    "    \n",
    "    if sia.polarity_scores(text)['compound'] > 0.1:\n",
    "\n",
    "        mytext = 'Call me crazy but I love to see other people happy, It makes me happy'\n",
    "        language = 'en'\n",
    "        myobj = gTTS(text=mytext, lang=language, slow=False)\n",
    "        myobj.save(\"happy.mp3\")\n",
    "        os.system(\"happy.mp3\")\n",
    "        countdown(round(len(mytext)*0.095))\n",
    "\n",
    "    if sia.polarity_scores(text)['compound'] < 0.1:\n",
    "\n",
    "        mytext = \"Well we can't have you feeling that way the whole day, do you want to hear a joke?\"\n",
    "        language = 'en'\n",
    "        myobj = gTTS(text=mytext, lang=language, slow=False)\n",
    "        myobj.save(\"joke.mp3\")\n",
    "        os.system(\"joke.mp3\")\n",
    "        countdown(7)\n",
    "        winsound.Beep(500, 200)\n",
    "\n",
    "        init_rec = sr.Recognizer() \n",
    "        for i in range(100):\n",
    "            print('Speak!')\n",
    "            guess = recognize_speech_from_mic(init_rec, sr.Microphone())\n",
    "            print(guess['transcription'])\n",
    "            if guess[\"transcription\"] and any(x in guess['transcription'].lower() for x in ['yes','no','ok','sure','tell','okay']):\n",
    "                break\n",
    "            if not guess[\"success\"]:\n",
    "                break\n",
    "\n",
    "        if any(x in guess['transcription'].lower() for x in ['yes','please','sure','tell','okay']):\n",
    "\n",
    "            joke = True\n",
    "            while joke:\n",
    "\n",
    "\n",
    "                df_joke = pd.read_excel('jokes v1.xlsx')\n",
    "                mytext = df_joke['Jokes'][randint(0,len(df_joke['Jokes']))]\n",
    "                language = 'en'\n",
    "                myobj = gTTS(text=mytext, lang=language, slow=False)\n",
    "                myobj.save(\"joke_text.mp3\")\n",
    "                os.system(\"joke_text.mp3\")\n",
    "                countdown(round(len(mytext)*0.095))\n",
    "\n",
    "                mytext = \"lol,would you like to hear another one?\"\n",
    "                language = 'en'\n",
    "                myobj = gTTS(text=mytext, lang=language, slow=False)\n",
    "                myobj.save(\"joke_again.mp3\")\n",
    "                os.system(\"joke_again.mp3\")\n",
    "                countdown(round(len(mytext)*0.095))\n",
    "                winsound.Beep(500, 200)\n",
    "\n",
    "                init_rec = sr.Recognizer() \n",
    "                for i in range(100):\n",
    "\n",
    "                    print('Speak!')\n",
    "                    guess = recognize_speech_from_mic(init_rec, sr.Microphone())\n",
    "                    print(guess['transcription'])\n",
    "\n",
    "                    if guess[\"transcription\"] and any(x in guess['transcription'].lower() for x in ['yes','ok','sure','tell','okay','another']):\n",
    "                        break\n",
    "                    if guess[\"transcription\"] and any(x in guess['transcription'].lower() for x in ['no','thank you']):\n",
    "                        break\n",
    "\n",
    "                if guess[\"transcription\"] and any(x in guess['transcription'].lower() for x in ['no','thank you']):\n",
    "                        joke = False"
   ]
  },
  {
   "cell_type": "markdown",
   "metadata": {},
   "source": [
    "**Adjusting volume**"
   ]
  },
  {
   "cell_type": "code",
   "execution_count": 21,
   "metadata": {},
   "outputs": [],
   "source": [
    "def volume_adjust(x):\n",
    "    \n",
    "    if any(y in x.lower() for y in ['up','increase']):\n",
    "        pyautogui.press('volumeup',presses=20)\n",
    "    \n",
    "    if any(y in x.lower() for y in ['down','lower']):\n",
    "        pyautogui.press('volumedown',presses=15)\n",
    "        \n",
    "    \n",
    "    if any(y in x.lower() for y in ['maximum','max']):\n",
    "        pyautogui.press('volumeup',presses=100)\n",
    "        \n",
    "    \n",
    "    if any(y in x.lower() for y in ['minimum','mute']):\n",
    "        pyautogui.press('volumemute')    "
   ]
  },
  {
   "cell_type": "markdown",
   "metadata": {},
   "source": [
    "**Describe function**\n",
    "\n",
    "Gives a brief wikipedia summary when \"PRODUCT\" entity is identified"
   ]
  },
  {
   "cell_type": "code",
   "execution_count": 22,
   "metadata": {},
   "outputs": [],
   "source": [
    "def describe(x):\n",
    "    for ent in nlp(x).ents:\n",
    "        mytext = wikipedia.summary(str(ent),2)\n",
    "        language = 'en'\n",
    "        myobj = gTTS(text=mytext, lang=language, slow=False)\n",
    "        myobj.save(\"describe.mp3\")\n",
    "        os.system(\"describe.mp3\")\n",
    "        countdown(round(len(mytext)*0.095))"
   ]
  },
  {
   "cell_type": "markdown",
   "metadata": {},
   "source": [
    "# HI HELEN TO START"
   ]
  },
  {
   "cell_type": "code",
   "execution_count": 53,
   "metadata": {},
   "outputs": [
    {
     "name": "stdout",
     "output_type": "stream",
     "text": [
      "Speak!\n",
      "hi Helen\n",
      "Speak!\n",
      "cook for dinner\n",
      "cook for dinner\n",
      "WEATHER BOT\n",
      "----------\n",
      "Speak!\n",
      "let's cook with milk\n",
      "Speak!\n",
      "yes please\n",
      "Speak!\n",
      "okay\n",
      "Speak!\n",
      "okay next\n",
      "Speak!\n",
      "okay next\n",
      "the end\n",
      "Speak!\n",
      "None\n",
      "0: NEXT LOOP\n",
      "Speak!\n",
      "None\n",
      "1: NEXT LOOP\n",
      "Speak!\n",
      "None\n",
      "2: NEXT LOOP\n",
      "Speak!\n",
      "None\n",
      "3: NEXT LOOP\n",
      "Speak!\n",
      "None\n",
      "4: NEXT LOOP\n",
      "Speak!\n",
      "None\n",
      "5: NEXT LOOP\n",
      "Speak!\n",
      "None\n",
      "6: NEXT LOOP\n",
      "Speak!\n",
      "None\n",
      "7: NEXT LOOP\n",
      "Speak!\n",
      "None\n",
      "8: NEXT LOOP\n",
      "Speak!\n",
      "None\n",
      "9: NEXT LOOP\n",
      "Speak!\n",
      "None\n",
      "10: NEXT LOOP\n",
      "Speak!\n",
      "None\n",
      "11: NEXT LOOP\n",
      "Speak!\n",
      "None\n",
      "12: NEXT LOOP\n",
      "Speak!\n",
      "None\n",
      "13: NEXT LOOP\n",
      "Speak!\n",
      "hi Helen\n",
      "Speak!\n",
      "is it raining in Madrid\n",
      "is it raining in Madrid\n",
      "GPE FOUND YES\n",
      "\n",
      "COSINE SIMILARITY SCORE - 0.2771776299079446\n",
      "\n",
      "Speak!\n",
      "that's all thank you\n",
      "Speak!\n",
      "None\n",
      "0: NEXT LOOP\n",
      "Speak!\n",
      "None\n",
      "1: NEXT LOOP\n",
      "Speak!\n",
      "None\n",
      "2: NEXT LOOP\n",
      "Speak!\n",
      "None\n",
      "3: NEXT LOOP\n",
      "Speak!\n",
      "None\n",
      "4: NEXT LOOP\n",
      "Speak!\n",
      "None\n",
      "5: NEXT LOOP\n",
      "Speak!\n",
      "None\n",
      "6: NEXT LOOP\n",
      "Speak!\n",
      "None\n",
      "7: NEXT LOOP\n",
      "Speak!\n",
      "None\n",
      "8: NEXT LOOP\n",
      "Speak!\n",
      "None\n",
      "9: NEXT LOOP\n",
      "Speak!\n",
      "None\n",
      "10: NEXT LOOP\n",
      "Speak!\n",
      "None\n",
      "11: NEXT LOOP\n",
      "Speak!\n",
      "None\n",
      "12: NEXT LOOP\n",
      "Speak!\n",
      "None\n",
      "13: NEXT LOOP\n",
      "Speak!\n",
      "None\n",
      "14: NEXT LOOP\n",
      "Speak!\n",
      "None\n",
      "15: NEXT LOOP\n",
      "Speak!\n",
      "None\n",
      "16: NEXT LOOP\n",
      "Speak!\n",
      "None\n",
      "17: NEXT LOOP\n",
      "Speak!\n",
      "None\n",
      "18: NEXT LOOP\n",
      "Speak!\n",
      "None\n",
      "19: NEXT LOOP\n",
      "Speak!\n",
      "None\n",
      "20: NEXT LOOP\n",
      "Speak!\n",
      "None\n",
      "21: NEXT LOOP\n",
      "Speak!\n",
      "None\n",
      "22: NEXT LOOP\n",
      "Speak!\n",
      "None\n",
      "23: NEXT LOOP\n",
      "Speak!\n",
      "None\n",
      "24: NEXT LOOP\n",
      "Speak!\n",
      "None\n",
      "25: NEXT LOOP\n",
      "Speak!\n",
      "None\n",
      "26: NEXT LOOP\n",
      "Speak!\n",
      "None\n",
      "27: NEXT LOOP\n",
      "Speak!\n",
      "None\n",
      "28: NEXT LOOP\n",
      "Speak!\n",
      "None\n",
      "29: NEXT LOOP\n",
      "Speak!\n",
      "None\n",
      "30: NEXT LOOP\n",
      "Speak!\n",
      "None\n",
      "31: NEXT LOOP\n",
      "Speak!\n",
      "None\n",
      "32: NEXT LOOP\n",
      "Speak!\n",
      "None\n",
      "33: NEXT LOOP\n",
      "Speak!\n",
      "None\n",
      "34: NEXT LOOP\n",
      "Speak!\n",
      "None\n",
      "35: NEXT LOOP\n",
      "Speak!\n",
      "None\n",
      "36: NEXT LOOP\n",
      "Speak!\n",
      "None\n",
      "37: NEXT LOOP\n",
      "Speak!\n",
      "None\n",
      "38: NEXT LOOP\n",
      "Speak!\n",
      "None\n",
      "39: NEXT LOOP\n",
      "Speak!\n",
      "None\n",
      "40: NEXT LOOP\n",
      "Speak!\n",
      "None\n",
      "41: NEXT LOOP\n",
      "Speak!\n",
      "None\n",
      "42: NEXT LOOP\n",
      "Speak!\n",
      "None\n",
      "43: NEXT LOOP\n",
      "Speak!\n",
      "None\n",
      "44: NEXT LOOP\n",
      "Speak!\n",
      "None\n",
      "45: NEXT LOOP\n",
      "Speak!\n",
      "None\n",
      "46: NEXT LOOP\n",
      "Speak!\n",
      "None\n",
      "47: NEXT LOOP\n",
      "Speak!\n",
      "None\n",
      "48: NEXT LOOP\n",
      "Speak!\n",
      "None\n",
      "49: NEXT LOOP\n",
      "Speak!\n",
      "None\n",
      "50: NEXT LOOP\n",
      "Speak!\n",
      "None\n",
      "51: NEXT LOOP\n",
      "Speak!\n",
      "None\n",
      "52: NEXT LOOP\n",
      "Speak!\n",
      "None\n",
      "53: NEXT LOOP\n",
      "Speak!\n",
      "None\n",
      "54: NEXT LOOP\n",
      "Speak!\n",
      "None\n",
      "55: NEXT LOOP\n",
      "Speak!\n",
      "None\n",
      "56: NEXT LOOP\n",
      "Speak!\n",
      "None\n",
      "57: NEXT LOOP\n",
      "Speak!\n",
      "None\n",
      "58: NEXT LOOP\n",
      "Speak!\n",
      "None\n",
      "59: NEXT LOOP\n",
      "Speak!\n",
      "None\n",
      "60: NEXT LOOP\n",
      "Speak!\n",
      "None\n",
      "61: NEXT LOOP\n",
      "Speak!\n",
      "hi Helen\n",
      "Speak!\n",
      "you Saturday\n",
      "you Saturday\n",
      "NO GPE FOUND\n",
      "WEATHER BOT\n",
      "----------\n",
      "Speak!\n",
      "I'm feeling a bit sad today\n",
      "\n",
      "NEXT STATEMENT\n",
      "--------------\n",
      "\n",
      "I'm feeling a bit sad today\n",
      "NO GPE FOUND\n",
      "WEATHER BOT\n",
      "----------\n",
      "Speak!\n",
      "show\n",
      "Speak!\n",
      "None\n",
      "Speak!\n",
      "okay tell\n",
      "Speak!\n",
      "None\n",
      "Speak!\n",
      "None\n",
      "Speak!\n",
      "None\n",
      "Speak!\n",
      "None\n",
      "Speak!\n",
      "None\n",
      "Speak!\n",
      "oukitel\n",
      "Speak!\n",
      "None\n",
      "Speak!\n",
      "None\n",
      "Speak!\n",
      "None\n",
      "Speak!\n",
      "None\n",
      "Speak!\n",
      "None\n",
      "Speak!\n",
      "None\n",
      "Speak!\n",
      "okay tell\n",
      "Speak!\n",
      "thank you\n",
      "Speak!\n",
      "what is the time\n",
      "\n",
      "NEXT STATEMENT\n",
      "--------------\n",
      "\n",
      "what is the time\n",
      "WEATHER BOT\n",
      "----------\n",
      "Speak!\n",
      "play Forever by Chris Brown\n",
      "\n",
      "NEXT STATEMENT\n",
      "--------------\n",
      "\n",
      "play Forever by Chris Brown\n",
      "NO GPE FOUND\n",
      "WEATHER BOT\n",
      "----------\n",
      "https://www.youtube.com/watch?v=5sMKX22BHeE\n",
      "Speak!\n",
      "None\n",
      "0: NEXT LOOP\n",
      "Speak!\n",
      "None\n",
      "1: NEXT LOOP\n",
      "Speak!\n",
      "None\n",
      "2: NEXT LOOP\n",
      "Speak!\n"
     ]
    },
    {
     "ename": "KeyboardInterrupt",
     "evalue": "",
     "output_type": "error",
     "traceback": [
      "\u001b[1;31m---------------------------------------------------------------------------\u001b[0m",
      "\u001b[1;31mKeyboardInterrupt\u001b[0m                         Traceback (most recent call last)",
      "\u001b[1;32m<ipython-input-53-09379ae19948>\u001b[0m in \u001b[0;36m<module>\u001b[1;34m\u001b[0m\n\u001b[0;32m      6\u001b[0m \u001b[1;33m\u001b[0m\u001b[0m\n\u001b[0;32m      7\u001b[0m         \u001b[0mprint\u001b[0m\u001b[1;33m(\u001b[0m\u001b[1;34m'Speak!'\u001b[0m\u001b[1;33m)\u001b[0m\u001b[1;33m\u001b[0m\u001b[1;33m\u001b[0m\u001b[0m\n\u001b[1;32m----> 8\u001b[1;33m         \u001b[0mguess\u001b[0m \u001b[1;33m=\u001b[0m \u001b[0mrecognize_speech_from_mic\u001b[0m\u001b[1;33m(\u001b[0m\u001b[0minit_rec\u001b[0m\u001b[1;33m,\u001b[0m \u001b[0msr\u001b[0m\u001b[1;33m.\u001b[0m\u001b[0mMicrophone\u001b[0m\u001b[1;33m(\u001b[0m\u001b[1;33m)\u001b[0m\u001b[1;33m)\u001b[0m\u001b[1;33m\u001b[0m\u001b[1;33m\u001b[0m\u001b[0m\n\u001b[0m\u001b[0;32m      9\u001b[0m         \u001b[0mprint\u001b[0m\u001b[1;33m(\u001b[0m\u001b[0mguess\u001b[0m\u001b[1;33m[\u001b[0m\u001b[1;34m'transcription'\u001b[0m\u001b[1;33m]\u001b[0m\u001b[1;33m)\u001b[0m\u001b[1;33m\u001b[0m\u001b[1;33m\u001b[0m\u001b[0m\n\u001b[0;32m     10\u001b[0m         \u001b[1;32mif\u001b[0m \u001b[1;33m(\u001b[0m\u001b[0mguess\u001b[0m\u001b[1;33m[\u001b[0m\u001b[1;34m'transcription'\u001b[0m\u001b[1;33m]\u001b[0m \u001b[1;33m!=\u001b[0m \u001b[1;32mNone\u001b[0m\u001b[1;33m)\u001b[0m \u001b[1;32mand\u001b[0m \u001b[1;33m(\u001b[0m\u001b[1;34m'helen'\u001b[0m \u001b[1;32min\u001b[0m \u001b[0mguess\u001b[0m\u001b[1;33m[\u001b[0m\u001b[1;34m'transcription'\u001b[0m\u001b[1;33m]\u001b[0m\u001b[1;33m.\u001b[0m\u001b[0mlower\u001b[0m\u001b[1;33m(\u001b[0m\u001b[1;33m)\u001b[0m\u001b[1;33m)\u001b[0m\u001b[1;33m==\u001b[0m\u001b[1;32mTrue\u001b[0m\u001b[1;33m:\u001b[0m\u001b[1;33m\u001b[0m\u001b[1;33m\u001b[0m\u001b[0m\n",
      "\u001b[1;32m<ipython-input-9-4ea89a5f14e8>\u001b[0m in \u001b[0;36mrecognize_speech_from_mic\u001b[1;34m(recognizer, microphone)\u001b[0m\n\u001b[0;32m     22\u001b[0m     \u001b[1;32mwith\u001b[0m \u001b[0mmicrophone\u001b[0m \u001b[1;32mas\u001b[0m \u001b[0msource\u001b[0m\u001b[1;33m:\u001b[0m\u001b[1;33m\u001b[0m\u001b[1;33m\u001b[0m\u001b[0m\n\u001b[0;32m     23\u001b[0m         \u001b[0mrecognizer\u001b[0m\u001b[1;33m.\u001b[0m\u001b[0madjust_for_ambient_noise\u001b[0m\u001b[1;33m(\u001b[0m\u001b[0msource\u001b[0m\u001b[1;33m)\u001b[0m\u001b[1;33m\u001b[0m\u001b[1;33m\u001b[0m\u001b[0m\n\u001b[1;32m---> 24\u001b[1;33m         \u001b[0maudio\u001b[0m \u001b[1;33m=\u001b[0m \u001b[0mrecognizer\u001b[0m\u001b[1;33m.\u001b[0m\u001b[0mrecord\u001b[0m\u001b[1;33m(\u001b[0m\u001b[0msource\u001b[0m\u001b[1;33m,\u001b[0m\u001b[0mduration\u001b[0m\u001b[1;33m=\u001b[0m\u001b[1;36m4\u001b[0m\u001b[1;33m)\u001b[0m\u001b[1;33m\u001b[0m\u001b[1;33m\u001b[0m\u001b[0m\n\u001b[0m\u001b[0;32m     25\u001b[0m \u001b[1;33m\u001b[0m\u001b[0m\n\u001b[0;32m     26\u001b[0m     \u001b[1;31m# set up the response object\u001b[0m\u001b[1;33m\u001b[0m\u001b[1;33m\u001b[0m\u001b[1;33m\u001b[0m\u001b[0m\n",
      "\u001b[1;32m~\\anaconda3\\lib\\site-packages\\speech_recognition\\__init__.py\u001b[0m in \u001b[0;36mrecord\u001b[1;34m(self, source, duration, offset)\u001b[0m\n\u001b[0;32m    495\u001b[0m                     \u001b[0moffset_reached\u001b[0m \u001b[1;33m=\u001b[0m \u001b[1;32mTrue\u001b[0m\u001b[1;33m\u001b[0m\u001b[1;33m\u001b[0m\u001b[0m\n\u001b[0;32m    496\u001b[0m \u001b[1;33m\u001b[0m\u001b[0m\n\u001b[1;32m--> 497\u001b[1;33m             \u001b[0mbuffer\u001b[0m \u001b[1;33m=\u001b[0m \u001b[0msource\u001b[0m\u001b[1;33m.\u001b[0m\u001b[0mstream\u001b[0m\u001b[1;33m.\u001b[0m\u001b[0mread\u001b[0m\u001b[1;33m(\u001b[0m\u001b[0msource\u001b[0m\u001b[1;33m.\u001b[0m\u001b[0mCHUNK\u001b[0m\u001b[1;33m)\u001b[0m\u001b[1;33m\u001b[0m\u001b[1;33m\u001b[0m\u001b[0m\n\u001b[0m\u001b[0;32m    498\u001b[0m             \u001b[1;32mif\u001b[0m \u001b[0mlen\u001b[0m\u001b[1;33m(\u001b[0m\u001b[0mbuffer\u001b[0m\u001b[1;33m)\u001b[0m \u001b[1;33m==\u001b[0m \u001b[1;36m0\u001b[0m\u001b[1;33m:\u001b[0m \u001b[1;32mbreak\u001b[0m\u001b[1;33m\u001b[0m\u001b[1;33m\u001b[0m\u001b[0m\n\u001b[0;32m    499\u001b[0m \u001b[1;33m\u001b[0m\u001b[0m\n",
      "\u001b[1;32m~\\anaconda3\\lib\\site-packages\\speech_recognition\\__init__.py\u001b[0m in \u001b[0;36mread\u001b[1;34m(self, size)\u001b[0m\n\u001b[0;32m    159\u001b[0m \u001b[1;33m\u001b[0m\u001b[0m\n\u001b[0;32m    160\u001b[0m         \u001b[1;32mdef\u001b[0m \u001b[0mread\u001b[0m\u001b[1;33m(\u001b[0m\u001b[0mself\u001b[0m\u001b[1;33m,\u001b[0m \u001b[0msize\u001b[0m\u001b[1;33m)\u001b[0m\u001b[1;33m:\u001b[0m\u001b[1;33m\u001b[0m\u001b[1;33m\u001b[0m\u001b[0m\n\u001b[1;32m--> 161\u001b[1;33m             \u001b[1;32mreturn\u001b[0m \u001b[0mself\u001b[0m\u001b[1;33m.\u001b[0m\u001b[0mpyaudio_stream\u001b[0m\u001b[1;33m.\u001b[0m\u001b[0mread\u001b[0m\u001b[1;33m(\u001b[0m\u001b[0msize\u001b[0m\u001b[1;33m,\u001b[0m \u001b[0mexception_on_overflow\u001b[0m\u001b[1;33m=\u001b[0m\u001b[1;32mFalse\u001b[0m\u001b[1;33m)\u001b[0m\u001b[1;33m\u001b[0m\u001b[1;33m\u001b[0m\u001b[0m\n\u001b[0m\u001b[0;32m    162\u001b[0m \u001b[1;33m\u001b[0m\u001b[0m\n\u001b[0;32m    163\u001b[0m         \u001b[1;32mdef\u001b[0m \u001b[0mclose\u001b[0m\u001b[1;33m(\u001b[0m\u001b[0mself\u001b[0m\u001b[1;33m)\u001b[0m\u001b[1;33m:\u001b[0m\u001b[1;33m\u001b[0m\u001b[1;33m\u001b[0m\u001b[0m\n",
      "\u001b[1;32m~\\anaconda3\\lib\\site-packages\\pyaudio.py\u001b[0m in \u001b[0;36mread\u001b[1;34m(self, num_frames, exception_on_overflow)\u001b[0m\n\u001b[0;32m    606\u001b[0m                           paCanNotReadFromAnOutputOnlyStream)\n\u001b[0;32m    607\u001b[0m \u001b[1;33m\u001b[0m\u001b[0m\n\u001b[1;32m--> 608\u001b[1;33m         \u001b[1;32mreturn\u001b[0m \u001b[0mpa\u001b[0m\u001b[1;33m.\u001b[0m\u001b[0mread_stream\u001b[0m\u001b[1;33m(\u001b[0m\u001b[0mself\u001b[0m\u001b[1;33m.\u001b[0m\u001b[0m_stream\u001b[0m\u001b[1;33m,\u001b[0m \u001b[0mnum_frames\u001b[0m\u001b[1;33m,\u001b[0m \u001b[0mexception_on_overflow\u001b[0m\u001b[1;33m)\u001b[0m\u001b[1;33m\u001b[0m\u001b[1;33m\u001b[0m\u001b[0m\n\u001b[0m\u001b[0;32m    609\u001b[0m \u001b[1;33m\u001b[0m\u001b[0m\n\u001b[0;32m    610\u001b[0m     \u001b[1;32mdef\u001b[0m \u001b[0mget_read_available\u001b[0m\u001b[1;33m(\u001b[0m\u001b[0mself\u001b[0m\u001b[1;33m)\u001b[0m\u001b[1;33m:\u001b[0m\u001b[1;33m\u001b[0m\u001b[1;33m\u001b[0m\u001b[0m\n",
      "\u001b[1;31mKeyboardInterrupt\u001b[0m: "
     ]
    }
   ],
   "source": [
    "repeat = True\n",
    "while repeat:\n",
    "    \n",
    "    init_rec = sr.Recognizer()\n",
    "    for i in range(1000):\n",
    "\n",
    "        print('Speak!')\n",
    "        guess = recognize_speech_from_mic(init_rec, sr.Microphone())\n",
    "        print(guess['transcription'])\n",
    "        if (guess['transcription'] != None) and ('helen' in guess['transcription'].lower())==True:\n",
    "            break\n",
    "        if not guess[\"success\"]:\n",
    "            break\n",
    "        print(f\"{i}: NEXT LOOP\")\n",
    "\n",
    "\n",
    "    # 1\n",
    "    mytext = 'Hi.. how can I help you'\n",
    "    language = 'en'\n",
    "    myobj = gTTS(text=mytext, lang=language, slow=False)\n",
    "    myobj.save(\"welcome.mp3\")\n",
    "    os.system(\"welcome.mp3\")\n",
    "    countdown(4)\n",
    "    winsound.Beep(500, 200)\n",
    "\n",
    "    # 2\n",
    "    for i in range(100):\n",
    "                print('Speak!')\n",
    "                guess = recognize_speech_from_mic(init_rec, sr.Microphone())\n",
    "                print(guess['transcription'])\n",
    "                if guess[\"transcription\"]:\n",
    "                    break\n",
    "                if not guess[\"success\"]:\n",
    "                    break\n",
    "\n",
    "    loop = True\n",
    "    while loop:\n",
    "\n",
    "        try:\n",
    "\n",
    "\n",
    "           # 3                \n",
    "            doc = nlp(guess['transcription'])\n",
    "            doc_token = []\n",
    "\n",
    "            for token in doc:\n",
    "                if token.pos_ in ['ADJ','VERB','NN']:\n",
    "                    doc_token.append(token)\n",
    "\n",
    "            question = chatbot(guess['transcription'])\n",
    "            \n",
    "\n",
    "            if 'play' in guess['transcription'].lower():\n",
    "\n",
    "                youtube(guess['transcription'])\n",
    "                mytext = 'playing'\n",
    "                language = 'en'\n",
    "                myobj = gTTS(text=mytext, lang=language, slow=False)\n",
    "                myobj.save(\"playing.mp3\")\n",
    "                os.system(\"playing.mp3\")\n",
    "                break\n",
    "            \n",
    "            if any(x in guess['transcription'].lower() for x in ['feel','feeling','I']):\n",
    "                joke(guess['transcription'])\n",
    "            \n",
    "            \n",
    "            if any(x in guess['transcription'].lower() for x in ['message','whatsapp','text']):\n",
    "                \n",
    "                whatsapp(guess['transcription'])\n",
    "                \n",
    "            \n",
    "            if 'time' in guess['transcription'].lower():\n",
    "                \n",
    "                mytext = 'the current time is '+ datetime.datetime.now().strftime('%I:%M %p')\n",
    "                language = 'en'\n",
    "                myobj = gTTS(text=mytext, lang=language, slow=False)\n",
    "                myobj.save(\"time.mp3\")\n",
    "                os.system(\"time.mp3\")\n",
    "                countdown(4)\n",
    "            \n",
    "            if any(x in guess['transcription'].lower() for x in ['cook','lunch','recipe','breakfast','meal','dinner','bake']):\n",
    "                recipe_function()\n",
    "                \n",
    "            \n",
    "            if any(x in guess['transcription'].lower() for x in ['turn','volume']):\n",
    "                volume_adjust(guess['transcription'])\n",
    "            \n",
    "            if 'what' in guess['transcription'].lower():\n",
    "                describe(guess['transcription'])\n",
    "\n",
    "                \n",
    "            for ent in nlp(guess['transcription']).ents:\n",
    "                if ent.label_ == 'GPE':\n",
    "                    print('GPE FOUND YES')\n",
    "\n",
    "\n",
    "                    # 4\n",
    "                    adj = []\n",
    "\n",
    "                    for token in nlp(question):\n",
    "\n",
    "                        if token.text in ['overcast','sunny','clear','rainy','haze','cloudy','broken','scattered','clouds','rain']:\n",
    "                            adj.append(token)\n",
    "\n",
    "\n",
    "                    if (len(doc_token) >= 1) & (len(adj) >= 1):\n",
    "                        similarity_doc_adj = doc_token[-1].similarity(nlp(' '.join([x.text for x in adj])))\n",
    "                        print()\n",
    "                        print(f'COSINE SIMILARITY SCORE - {similarity_doc_adj}')\n",
    "                        print()\n",
    "\n",
    "\n",
    "                   # 6\n",
    "                    mytext = chatbot2(guess['transcription'])\n",
    "                    language = 'en'\n",
    "                    myobj = gTTS(text=mytext, lang=language, slow=False)\n",
    "                    myobj.save(\"response.mp3\")\n",
    "                    os.system(\"response.mp3\")\n",
    "                    countdown(15)\n",
    "\n",
    "                elif (ent.label_ == \"PERSON\") & ('who' in guess['transcription'].lower()):\n",
    "                    \n",
    "                    try:\n",
    "\n",
    "                        mytext = wikipedia.summary(guess['transcription'],2)\n",
    "                        language = 'en'\n",
    "                        myobj = gTTS(text=mytext, lang=language, slow=False)\n",
    "                        myobj.save(\"response.mp3\")\n",
    "                        os.system(\"response.mp3\")\n",
    "\n",
    "                    except:\n",
    "                        print('NO WIKIPEDIA INFORMATION EXTRACTED')\n",
    "\n",
    "                    finally:\n",
    "                        pywhatkit.search(ent.text)\n",
    "                        countdown(round(len(wikipedia.summary(guess['transcription'],2))*0.095))\n",
    "\n",
    "                elif (ent.label_ == \"WORK_OF_ART\"):\n",
    "\n",
    "                    search_keyword=doc2.replace(' ','')\n",
    "                    html = urllib.request.urlopen(\"https://www.youtube.com/results?search_query=\" + search_keyword)\n",
    "                    video_ids = re.findall(r\"watch\\?v=(\\S{11})\", html.read().decode())\n",
    "                    print(\"https://www.youtube.com/watch?v=\" + video_ids[0])\n",
    "                    webbrowser.open(f\"https://www.youtube.com/watch?v={video_ids[0]}\")\n",
    "                    break\n",
    "\n",
    "\n",
    "\n",
    "\n",
    "            # 7\n",
    "            mytext = 'Is there anything else I can help you with?'\n",
    "            language = 'en'\n",
    "            myobj = gTTS(text=mytext, lang=language, slow=False)\n",
    "            myobj.save(\"next_question.mp3\")\n",
    "            os.system(\"next_question.mp3\")\n",
    "            countdown(4)\n",
    "            winsound.Beep(500, 200)\n",
    "\n",
    "            # 8\n",
    "            for i in range(100):\n",
    "\n",
    "                print('Speak!')\n",
    "                guess = recognize_speech_from_mic(init_rec, sr.Microphone())\n",
    "                print(guess['transcription'])\n",
    "                if guess[\"transcription\"]:\n",
    "                    break\n",
    "                if not guess[\"success\"]:\n",
    "                    break\n",
    "\n",
    "            # loop control\n",
    "            if 'thank you' in guess['transcription']:\n",
    "\n",
    "                mytext = 'Thank you Goodbye'\n",
    "                language = 'en'\n",
    "                myobj = gTTS(text=mytext, lang=language, slow=False)\n",
    "                myobj.save(\"Goodbye.mp3\")\n",
    "                os.system(\"Goodbye.mp3\")\n",
    "                countdown(3)\n",
    "                loop = False\n",
    "\n",
    "            else:\n",
    "                print()\n",
    "                print('NEXT STATEMENT')\n",
    "\n",
    "                print('--------------')\n",
    "                print()\n",
    "                pass\n",
    "\n",
    "        except:\n",
    "            print('the end')\n",
    "            break"
   ]
  },
  {
   "cell_type": "code",
   "execution_count": null,
   "metadata": {},
   "outputs": [],
   "source": []
  },
  {
   "cell_type": "code",
   "execution_count": null,
   "metadata": {},
   "outputs": [],
   "source": []
  },
  {
   "cell_type": "code",
   "execution_count": null,
   "metadata": {},
   "outputs": [],
   "source": []
  },
  {
   "cell_type": "code",
   "execution_count": null,
   "metadata": {},
   "outputs": [],
   "source": []
  },
  {
   "cell_type": "code",
   "execution_count": null,
   "metadata": {},
   "outputs": [],
   "source": []
  },
  {
   "cell_type": "code",
   "execution_count": null,
   "metadata": {},
   "outputs": [],
   "source": []
  },
  {
   "cell_type": "code",
   "execution_count": null,
   "metadata": {},
   "outputs": [],
   "source": []
  },
  {
   "cell_type": "markdown",
   "metadata": {},
   "source": [
    "# Looking how the functions work"
   ]
  },
  {
   "cell_type": "markdown",
   "metadata": {},
   "source": [
    "## Weather Bot V2"
   ]
  },
  {
   "cell_type": "markdown",
   "metadata": {},
   "source": [
    "**user input - speech to text**"
   ]
  },
  {
   "cell_type": "code",
   "execution_count": 7,
   "metadata": {},
   "outputs": [
    {
     "name": "stdout",
     "output_type": "stream",
     "text": [
      "Please say something\n",
      "Recognizing Now .... \n",
      "You have said \n",
      "what's the weather in Madrid\n",
      "Audio Recorded Successfully \n",
      " \n",
      "-------------------------------\n"
     ]
    }
   ],
   "source": [
    "r = sr.Recognizer()\n",
    " \n",
    "with sr.Microphone() as source:\n",
    "            r.adjust_for_ambient_noise(source)\n",
    "\n",
    "            print(\"Please say something\")\n",
    "\n",
    "            audio = r.listen(source)\n",
    "\n",
    "            print(\"Recognizing Now .... \")\n",
    "\n",
    "\n",
    "            # recognize speech using google\n",
    "\n",
    "            try:\n",
    "                print(\"You have said \\n\" + r.recognize_google(audio))\n",
    "                print(\"Audio Recorded Successfully \\n \")\n",
    "                print('-------------------------------')\n",
    "\n",
    "\n",
    "            except Exception as e:\n",
    "                print(\"Error :  \" + str(e))\n"
   ]
  },
  {
   "cell_type": "code",
   "execution_count": 41,
   "metadata": {},
   "outputs": [
    {
     "data": {
      "text/plain": [
       "{'alternative': [{'transcript': 'is it raining in Madrid',\n",
       "   'confidence': 0.89014721}],\n",
       " 'final': True}"
      ]
     },
     "execution_count": 41,
     "metadata": {},
     "output_type": "execute_result"
    }
   ],
   "source": [
    "r.recognize_google(audio,show_all=True)"
   ]
  },
  {
   "cell_type": "markdown",
   "metadata": {},
   "source": [
    "**token classification of user input**"
   ]
  },
  {
   "cell_type": "code",
   "execution_count": 42,
   "metadata": {},
   "outputs": [
    {
     "name": "stdout",
     "output_type": "stream",
     "text": [
      "RECORDED STATEMENT - is it raining in Madrid\n",
      "\n",
      "TOKENISATION OF RECOREDED STATEMENT\n",
      "\n",
      "is        AUX       auxiliary \n",
      "it        PRON      pronoun   \n",
      "raining   VERB      verb      \n",
      "in        ADP       adposition\n",
      "Madrid    PROPN     proper noun\n",
      "\n",
      "Identifying GPE in recorded Statement\n"
     ]
    },
    {
     "data": {
      "text/html": [
       "<span class=\"tex2jax_ignore\"><div class=\"entities\" style=\"line-height: 2.5; direction: ltr\">is it raining in \n",
       "<mark class=\"entity\" style=\"background: #feca74; padding: 0.45em 0.6em; margin: 0 0.25em; line-height: 1; border-radius: 0.35em;\">\n",
       "    Madrid\n",
       "    <span style=\"font-size: 0.8em; font-weight: bold; line-height: 1; border-radius: 0.35em; vertical-align: middle; margin-left: 0.5rem\">GPE</span>\n",
       "</mark>\n",
       "</div></span>"
      ],
      "text/plain": [
       "<IPython.core.display.HTML object>"
      ]
     },
     "metadata": {},
     "output_type": "display_data"
    },
    {
     "name": "stdout",
     "output_type": "stream",
     "text": [
      "\n",
      "ADJ,VERB,NN collected - [raining]\n",
      "-----------\n"
     ]
    }
   ],
   "source": [
    "doc = nlp(r.recognize_google(audio))\n",
    "doc_token = []\n",
    "\n",
    "print(f'RECORDED STATEMENT - {r.recognize_google(audio)}')\n",
    "print()\n",
    "print('TOKENISATION OF RECOREDED STATEMENT')\n",
    "print()    \n",
    "for token in doc:\n",
    "\n",
    "    print(f'{token.text:{10}}{token.pos_:{10}}{spacy.explain(token.pos_):{10}}')\n",
    "    if token.pos_ in ['ADJ','VERB','NN']:\n",
    "        doc_token.append(token)\n",
    "print()\n",
    "print(f\"Identifying GPE in recorded Statement\")\n",
    "displacy.render(doc, style='ent', jupyter=True, options={'distance': 110})\n",
    "print()\n",
    "print(f'ADJ,VERB,NN collected - {doc_token}')\n",
    "print('-----------')"
   ]
  },
  {
   "cell_type": "markdown",
   "metadata": {},
   "source": [
    "**chatbot function to get weather from api**"
   ]
  },
  {
   "cell_type": "code",
   "execution_count": 7,
   "metadata": {},
   "outputs": [],
   "source": [
    "def chatbot(statement):\n",
    "    \n",
    "    #weather = nlp(\"Current weather in a city\")\n",
    "    statement = nlp(statement)\n",
    "    print(statement)\n",
    "    #min_similarity = 0.0\n",
    "\n",
    "#if weather.similarity(statement) >= min_similarity:\n",
    "    for ent in statement.ents:\n",
    "        if ent.label_ == \"GPE\": # GeoPolitical Entity\n",
    "            city = ent.text\n",
    "            city_weather = get_weather(city)\n",
    "\n",
    "            if city_weather is not None:\n",
    "                return \"In \" + city + \", the current weather is: \" + city_weather\n",
    "            else:\n",
    "                return \"Something went wrong.\"\n",
    "\n",
    "            break\n",
    "        else:\n",
    "            print('NO GPE FOUND')\n",
    "            pass\n",
    "    \n",
    "    print('WEATHER BOT')\n",
    "    #print(city_weather)\n",
    "    print('----------')\n",
    "\n",
    "#chatbot('play middle child')"
   ]
  },
  {
   "cell_type": "code",
   "execution_count": 44,
   "metadata": {},
   "outputs": [
    {
     "name": "stdout",
     "output_type": "stream",
     "text": [
      "is it raining in Madrid\n"
     ]
    },
    {
     "data": {
      "text/plain": [
       "'In Madrid, the current weather is: clear sky with temperature 14 celcius......... the minimum temperature for the day will be 13 celcius with maximum temperature 16 celcius'"
      ]
     },
     "execution_count": 44,
     "metadata": {},
     "output_type": "execute_result"
    }
   ],
   "source": [
    "question = chatbot(r.recognize_google(audio))\n",
    "question"
   ]
  },
  {
   "cell_type": "markdown",
   "metadata": {},
   "source": [
    "**token classification of weather statement**"
   ]
  },
  {
   "cell_type": "code",
   "execution_count": 45,
   "metadata": {},
   "outputs": [
    {
     "name": "stdout",
     "output_type": "stream",
     "text": [
      "\n",
      "WEATHER STATMENT - In Madrid, the current weather is: clear sky with temperature 14 celcius......... the minimum temperature for the day will be 13 celcius with maximum temperature 16 celcius\n",
      "\n",
      "TOKENISATION OF WEATHER STATEMENT\n",
      "\n",
      "In                  IN                  conjunction, subordinating or preposition\n",
      "Madrid              NNP                 noun, proper singular\n",
      ",                   ,                   punctuation mark, comma\n",
      "the                 DT                  determiner\n",
      "current             JJ                  adjective \n",
      "weather             NN                  noun, singular or mass\n",
      "is                  VBZ                 verb, 3rd person singular present\n",
      ":                   :                   punctuation mark, colon or ellipsis\n",
      "clear               JJ                  adjective \n",
      "sky                 NN                  noun, singular or mass\n",
      "with                IN                  conjunction, subordinating or preposition\n",
      "temperature         NN                  noun, singular or mass\n",
      "14                  CD                  cardinal number\n",
      "celcius             NN                  noun, singular or mass\n",
      ".........           NFP                 superfluous punctuation\n",
      "the                 DT                  determiner\n",
      "minimum             JJ                  adjective \n",
      "temperature         NN                  noun, singular or mass\n",
      "for                 IN                  conjunction, subordinating or preposition\n",
      "the                 DT                  determiner\n",
      "day                 NN                  noun, singular or mass\n",
      "will                MD                  verb, modal auxiliary\n",
      "be                  VB                  verb, base form\n",
      "13                  CD                  cardinal number\n",
      "celcius             NN                  noun, singular or mass\n",
      "with                IN                  conjunction, subordinating or preposition\n",
      "maximum             JJ                  adjective \n",
      "temperature         NN                  noun, singular or mass\n",
      "16                  CD                  cardinal number\n",
      "celcius             NN                  noun, singular or mass\n"
     ]
    },
    {
     "data": {
      "text/html": [
       "<span class=\"tex2jax_ignore\"><div class=\"entities\" style=\"line-height: 2.5; direction: ltr\">In \n",
       "<mark class=\"entity\" style=\"background: #feca74; padding: 0.45em 0.6em; margin: 0 0.25em; line-height: 1; border-radius: 0.35em;\">\n",
       "    Madrid\n",
       "    <span style=\"font-size: 0.8em; font-weight: bold; line-height: 1; border-radius: 0.35em; vertical-align: middle; margin-left: 0.5rem\">GPE</span>\n",
       "</mark>\n",
       ", the current weather is: clear sky with temperature \n",
       "<mark class=\"entity\" style=\"background: #e4e7d2; padding: 0.45em 0.6em; margin: 0 0.25em; line-height: 1; border-radius: 0.35em;\">\n",
       "    14 celcius\n",
       "    <span style=\"font-size: 0.8em; font-weight: bold; line-height: 1; border-radius: 0.35em; vertical-align: middle; margin-left: 0.5rem\">QUANTITY</span>\n",
       "</mark>\n",
       "......... the minimum temperature for \n",
       "<mark class=\"entity\" style=\"background: #bfe1d9; padding: 0.45em 0.6em; margin: 0 0.25em; line-height: 1; border-radius: 0.35em;\">\n",
       "    the day\n",
       "    <span style=\"font-size: 0.8em; font-weight: bold; line-height: 1; border-radius: 0.35em; vertical-align: middle; margin-left: 0.5rem\">DATE</span>\n",
       "</mark>\n",
       " will be \n",
       "<mark class=\"entity\" style=\"background: #e4e7d2; padding: 0.45em 0.6em; margin: 0 0.25em; line-height: 1; border-radius: 0.35em;\">\n",
       "    13 celcius\n",
       "    <span style=\"font-size: 0.8em; font-weight: bold; line-height: 1; border-radius: 0.35em; vertical-align: middle; margin-left: 0.5rem\">QUANTITY</span>\n",
       "</mark>\n",
       " with maximum temperature \n",
       "<mark class=\"entity\" style=\"background: #e4e7d2; padding: 0.45em 0.6em; margin: 0 0.25em; line-height: 1; border-radius: 0.35em;\">\n",
       "    16\n",
       "    <span style=\"font-size: 0.8em; font-weight: bold; line-height: 1; border-radius: 0.35em; vertical-align: middle; margin-left: 0.5rem\">CARDINAL</span>\n",
       "</mark>\n",
       " celcius</div></span>"
      ],
      "text/plain": [
       "<IPython.core.display.HTML object>"
      ]
     },
     "metadata": {},
     "output_type": "display_data"
    },
    {
     "name": "stdout",
     "output_type": "stream",
     "text": [
      "ADJ collected - [clear]\n",
      "-----------\n"
     ]
    }
   ],
   "source": [
    "adj = []\n",
    "print()\n",
    "print(f'WEATHER STATMENT - {question}')\n",
    "print()\n",
    "print('TOKENISATION OF WEATHER STATEMENT')\n",
    "print()\n",
    "for token in nlp(question):\n",
    "    print(f'{token.text:{20}}{token.tag_:{20}}{spacy.explain(token.tag_):{10}}')\n",
    "    if token.text in ['overcast','sunny','clear','rainy','haze','cloudy','broken','scattered','clouds','rain']:\n",
    "        adj.append(token)\n",
    "\n",
    "displacy.render(nlp(question), style='ent', jupyter=True, options={'distance': 110})\n",
    "print(f'ADJ collected - {adj}')\n",
    "print('-----------')\n"
   ]
  },
  {
   "cell_type": "markdown",
   "metadata": {},
   "source": [
    "**cosine similarity to determine yes or no, threshold at 0.55**"
   ]
  },
  {
   "cell_type": "code",
   "execution_count": 46,
   "metadata": {},
   "outputs": [
    {
     "name": "stdout",
     "output_type": "stream",
     "text": [
      "\n",
      "COSINE SIMILARITY SCORE - 0.2771776299079446\n",
      "\n"
     ]
    }
   ],
   "source": [
    "if (len(doc_token) >= 1) & (len(adj) >= 1):\n",
    "            similarity_doc_adj = doc_token[-1].similarity(nlp(' '.join([x.text for x in adj])))\n",
    "            print()\n",
    "            print(f'COSINE SIMILARITY SCORE - {similarity_doc_adj}')\n",
    "            print()"
   ]
  },
  {
   "cell_type": "markdown",
   "metadata": {},
   "source": [
    "**redefining chatbot function**"
   ]
  },
  {
   "cell_type": "code",
   "execution_count": 7,
   "metadata": {},
   "outputs": [],
   "source": [
    "def chatbot2(statement):\n",
    "            #weather = nlp(\"Current weather in a city\")\n",
    "            statement = nlp(statement)\n",
    "            #min_similarity = 0.0\n",
    "\n",
    "            #if weather.similarity(statement) >= min_similarity:\n",
    "            for ent in statement.ents:\n",
    "                if ent.label_ == \"GPE\": # GeoPolitical Entity\n",
    "                    city = ent.text\n",
    "                    break\n",
    "                else:\n",
    "                    return \"You need to tell me a city to check.\"\n",
    "            city_weather = get_weather(city)\n",
    "            if (city_weather is not None) & (len(doc_token) < 1):\n",
    "                return \"In \" + city + \", the current weather is: \" + city_weather\n",
    "\n",
    "            elif (city_weather is not None) & (len(doc_token) >= 1) & (len(adj) >= 1) & (similarity_doc_adj < 0.55):\n",
    "                return \"No.... \"+\"in \" + city + \", the current weather is: \" + city_weather\n",
    "\n",
    "            elif (city_weather is not None) & (len(doc_token) >= 1) & (len(adj) >= 1) & (similarity_doc_adj > 0.55):\n",
    "                return \"Yes.... \"+\"in \" + city + \", the current weather is: \" + city_weather\n",
    "            else:\n",
    "                return \"Something went wrong.\"\n",
    "        #else:\n",
    "                #return \"Sorry I don't understand that. Please rephrase your statement.\"\n"
   ]
  },
  {
   "cell_type": "code",
   "execution_count": 48,
   "metadata": {},
   "outputs": [
    {
     "data": {
      "text/plain": [
       "'No.... in Madrid, the current weather is: clear sky with temperature 14 celcius......... the minimum temperature for the day will be 13 celcius with maximum temperature 16 celcius'"
      ]
     },
     "execution_count": 48,
     "metadata": {},
     "output_type": "execute_result"
    }
   ],
   "source": [
    "question = chatbot2(r.recognize_google(audio))\n",
    "question"
   ]
  },
  {
   "cell_type": "code",
   "execution_count": 329,
   "metadata": {},
   "outputs": [
    {
     "name": "stdout",
     "output_type": "stream",
     "text": [
      "[(8656102463236116519, 0, 1)]\n",
      "[(8656102463236116519, 0, 1)]\n"
     ]
    }
   ],
   "source": [
    "flight_price(r.recognize_google(audio))"
   ]
  },
  {
   "cell_type": "code",
   "execution_count": 21,
   "metadata": {},
   "outputs": [],
   "source": [
    "pywhatkit.text_to_handwriting(r.recognize_google(audio))"
   ]
  },
  {
   "cell_type": "code",
   "execution_count": 117,
   "metadata": {},
   "outputs": [
    {
     "name": "stdout",
     "output_type": "stream",
     "text": [
      "Please say something\n",
      "Recognizing Now .... \n",
      "You have said \n",
      "hi Angel\n",
      "Audio Recorded Successfully \n",
      " \n",
      "-------------------------------\n"
     ]
    }
   ],
   "source": [
    "r = sr.Recognizer()\n",
    " \n",
    "with sr.Microphone() as source:\n",
    "            r.adjust_for_ambient_noise(source)\n",
    "\n",
    "            print(\"Please say something\")\n",
    "\n",
    "            audio = r.listen(source)\n",
    "\n",
    "            print(\"Recognizing Now .... \")\n",
    "\n",
    "\n",
    "            # recognize speech using google\n",
    "\n",
    "            try:\n",
    "                print(\"You have said \\n\" + r.recognize_google(audio))\n",
    "                print(\"Audio Recorded Successfully \\n \")\n",
    "                print('-------------------------------')\n",
    "\n",
    "\n",
    "            except Exception as e:\n",
    "                print(\"Error :  \" + str(e))"
   ]
  },
  {
   "cell_type": "markdown",
   "metadata": {},
   "source": [
    "## Whatsapp"
   ]
  },
  {
   "cell_type": "code",
   "execution_count": 9,
   "metadata": {},
   "outputs": [],
   "source": [
    "df_phone_code = pd.read_excel('codes.xlsx',sheet_name='Phone Codes')"
   ]
  },
  {
   "cell_type": "code",
   "execution_count": 10,
   "metadata": {},
   "outputs": [],
   "source": [
    "phone_codes = dict(zip(df_phone_code['Person'],df_phone_code['Phone Code']))"
   ]
  },
  {
   "cell_type": "code",
   "execution_count": 11,
   "metadata": {},
   "outputs": [],
   "source": [
    "phone_codes['Eleanor'] = '+34627166596'\n",
    "phone_codes['Mario'] = '+34681226022'"
   ]
  },
  {
   "cell_type": "code",
   "execution_count": 12,
   "metadata": {},
   "outputs": [
    {
     "data": {
      "text/plain": [
       "{'Eleanor': '+34627166596', 'Mario': '+34681226022'}"
      ]
     },
     "execution_count": 12,
     "metadata": {},
     "output_type": "execute_result"
    }
   ],
   "source": [
    "phone_codes"
   ]
  },
  {
   "cell_type": "code",
   "execution_count": 121,
   "metadata": {},
   "outputs": [
    {
     "name": "stdout",
     "output_type": "stream",
     "text": [
      "Please say something\n",
      "Recognizing Now .... \n",
      "You have said \n",
      "hi Angel\n",
      "Audio Recorded Successfully \n",
      " \n",
      "-------------------------------\n"
     ]
    }
   ],
   "source": [
    "r = sr.Recognizer()\n",
    " \n",
    "with sr.Microphone() as source:\n",
    "            r.adjust_for_ambient_noise(source)\n",
    "\n",
    "            print(\"Please say something\")\n",
    "\n",
    "            audio = r.listen(source)\n",
    "\n",
    "            print(\"Recognizing Now .... \")\n",
    "\n",
    "\n",
    "            # recognize speech using google\n",
    "\n",
    "            try:\n",
    "                print(\"You have said \\n\" + r.recognize_google(audio))\n",
    "                print(\"Audio Recorded Successfully \\n \")\n",
    "                print('-------------------------------')\n",
    "\n",
    "\n",
    "            except Exception as e:\n",
    "                print(\"Error :  \" + str(e))"
   ]
  },
  {
   "cell_type": "code",
   "execution_count": 10,
   "metadata": {},
   "outputs": [],
   "source": [
    "def whatsapp(text):\n",
    "    \n",
    "    person = []\n",
    "    for ent in nlp(text).ents:\n",
    "        if ent.label_ == 'PERSON':\n",
    "            person.append(ent)\n",
    "            print(ent,ent.label_)\n",
    "    \n",
    "    mytext = \"what message would you like to send?\"\n",
    "    language = 'en'\n",
    "    myobj = gTTS(text=mytext, lang=language, slow=False)\n",
    "    myobj.save(\"whatsapp.mp3\")\n",
    "    os.system(\"whatsapp.mp3\")\n",
    "    countdown(4)\n",
    "    winsound.Beep(500, 200)\n",
    "    \n",
    "    init_rec = sr.Recognizer()\n",
    "    for i in range(100):\n",
    "            \n",
    "            guess = recognize_speech_from_mic(init_rec, sr.Microphone())\n",
    "            if guess[\"transcription\"]:\n",
    "                break\n",
    "            if not guess[\"success\"]:\n",
    "                break\n",
    "    \n",
    "    hour = datetime.datetime.now().strftime('%H')\n",
    "    minute = str(int(datetime.datetime.now().strftime('%M')) + 2)\n",
    "    phone_no = str(phone_codes[str(person[0])])\n",
    "    message = guess[\"transcription\"]\n",
    "    time_hour = int(hour)\n",
    "    time_min = int(minute)\n",
    "\n",
    "    mytext = \"sending\"\n",
    "    language = 'en'\n",
    "    myobj = gTTS(text=mytext, lang=language, slow=False)\n",
    "    myobj.save(\"whatsapp2.mp3\")\n",
    "    os.system(\"whatsapp2.mp3\")\n",
    "    countdown(2)\n",
    "    \n",
    "    pywhatkit.sendwhatmsg(phone_no=phone_no,message=message,time_hour=time_hour,time_min=time_min)\n",
    "    \n",
    "    mytext = \"your message has been sent\"\n",
    "    language = 'en'\n",
    "    myobj = gTTS(text=mytext, lang=language, slow=False)\n",
    "\n",
    "    \n",
    "    myobj.save(\"whatsapp3.mp3\")\n",
    "    os.system(\"whatsapp3.mp3\")\n",
    "    countdown(4)"
   ]
  },
  {
   "cell_type": "code",
   "execution_count": 122,
   "metadata": {},
   "outputs": [
    {
     "name": "stdout",
     "output_type": "stream",
     "text": [
      "Angel PERSON\n"
     ]
    }
   ],
   "source": [
    "person = []\n",
    "\n",
    "for ent in nlp(r.recognize_google(audio)).ents:\n",
    "    if ent.label_ == 'PERSON':\n",
    "        person.append(ent)\n",
    "        print(ent,ent.label_)"
   ]
  },
  {
   "cell_type": "code",
   "execution_count": 70,
   "metadata": {},
   "outputs": [
    {
     "name": "stdout",
     "output_type": "stream",
     "text": [
      "Please say something\n",
      "Recognizing Now .... \n",
      "You have said \n",
      "hey Mario can get some wine please\n",
      "Audio Recorded Successfully \n",
      " \n",
      "-------------------------------\n"
     ]
    }
   ],
   "source": [
    "r = sr.Recognizer()\n",
    " \n",
    "with sr.Microphone() as source:\n",
    "            r.adjust_for_ambient_noise(source)\n",
    "\n",
    "            print(\"Please say something\")\n",
    "\n",
    "            audio = r.listen(source)\n",
    "\n",
    "            print(\"Recognizing Now .... \")\n",
    "\n",
    "\n",
    "            # recognize speech using google\n",
    "\n",
    "            try:\n",
    "                print(\"You have said \\n\" + r.recognize_google(audio))\n",
    "                print(\"Audio Recorded Successfully \\n \")\n",
    "                print('-------------------------------')\n",
    "\n",
    "\n",
    "            except Exception as e:\n",
    "                print(\"Error :  \" + str(e))"
   ]
  },
  {
   "cell_type": "code",
   "execution_count": 71,
   "metadata": {},
   "outputs": [],
   "source": [
    "hour = datetime.datetime.now().strftime('%H')"
   ]
  },
  {
   "cell_type": "code",
   "execution_count": 72,
   "metadata": {},
   "outputs": [],
   "source": [
    "minute = str(int(datetime.datetime.now().strftime('%M')) + 1)"
   ]
  },
  {
   "cell_type": "code",
   "execution_count": 73,
   "metadata": {},
   "outputs": [],
   "source": [
    "phone_no = str(phone_codes[str(person[0])])"
   ]
  },
  {
   "cell_type": "code",
   "execution_count": 74,
   "metadata": {},
   "outputs": [],
   "source": [
    "message = r.recognize_google(audio)"
   ]
  },
  {
   "cell_type": "code",
   "execution_count": 75,
   "metadata": {},
   "outputs": [],
   "source": [
    "time_hour = int(hour)"
   ]
  },
  {
   "cell_type": "code",
   "execution_count": 76,
   "metadata": {},
   "outputs": [],
   "source": [
    "time_min = int(minute)"
   ]
  },
  {
   "cell_type": "code",
   "execution_count": 77,
   "metadata": {},
   "outputs": [
    {
     "name": "stdout",
     "output_type": "stream",
     "text": [
      "In 6 seconds web.whatsapp.com will open and after 20 seconds message will be delivered\n"
     ]
    }
   ],
   "source": [
    "pywhatkit.sendwhatmsg(phone_no=phone_no,message=message,time_hour=time_hour,time_min=time_min)"
   ]
  },
  {
   "cell_type": "markdown",
   "metadata": {},
   "source": [
    "## Time"
   ]
  },
  {
   "cell_type": "code",
   "execution_count": 160,
   "metadata": {},
   "outputs": [
    {
     "name": "stdout",
     "output_type": "stream",
     "text": [
      "00:01\r"
     ]
    }
   ],
   "source": [
    "mytext = 'the current time is '+ datetime.datetime.now().strftime('%I:%M %p')\n",
    "language = 'en'\n",
    "myobj = gTTS(text=mytext, lang=language, slow=False)\n",
    "myobj.save(\"time.mp3\")\n",
    "os.system(\"time.mp3\")\n",
    "countdown(3)"
   ]
  },
  {
   "cell_type": "code",
   "execution_count": 63,
   "metadata": {},
   "outputs": [
    {
     "name": "stdout",
     "output_type": "stream",
     "text": [
      "Speak!\n",
      "None\n",
      "0: NEXT LOOP\n",
      "Speak!\n",
      "None\n",
      "1: NEXT LOOP\n",
      "Speak!\n",
      "None\n",
      "2: NEXT LOOP\n",
      "Speak!\n",
      "hi Helen\n",
      "Speak!\n",
      "can I cook for lunch\n",
      "WEATHER BOT\n",
      "----------\n",
      "the end\n",
      "Speak!\n",
      "None\n",
      "0: NEXT LOOP\n",
      "Speak!\n",
      "None\n",
      "1: NEXT LOOP\n",
      "Speak!\n",
      "None\n",
      "2: NEXT LOOP\n",
      "Speak!\n",
      "None\n",
      "3: NEXT LOOP\n",
      "Speak!\n",
      "None\n",
      "4: NEXT LOOP\n",
      "Speak!\n",
      "None\n",
      "5: NEXT LOOP\n",
      "Speak!\n",
      "None\n",
      "6: NEXT LOOP\n",
      "Speak!\n",
      "None\n",
      "7: NEXT LOOP\n",
      "Speak!\n",
      "None\n",
      "8: NEXT LOOP\n",
      "Speak!\n",
      "None\n",
      "9: NEXT LOOP\n",
      "Speak!\n",
      "None\n",
      "10: NEXT LOOP\n",
      "Speak!\n",
      "None\n",
      "11: NEXT LOOP\n",
      "Speak!\n",
      "None\n",
      "12: NEXT LOOP\n",
      "Speak!\n",
      "None\n",
      "13: NEXT LOOP\n",
      "Speak!\n",
      "None\n",
      "14: NEXT LOOP\n",
      "Speak!\n",
      "None\n",
      "15: NEXT LOOP\n",
      "Speak!\n",
      "None\n",
      "16: NEXT LOOP\n",
      "Speak!\n"
     ]
    },
    {
     "ename": "KeyboardInterrupt",
     "evalue": "",
     "output_type": "error",
     "traceback": [
      "\u001b[1;31m---------------------------------------------------------------------------\u001b[0m",
      "\u001b[1;31mKeyboardInterrupt\u001b[0m                         Traceback (most recent call last)",
      "\u001b[1;32m<ipython-input-63-633d568b2eaa>\u001b[0m in \u001b[0;36m<module>\u001b[1;34m\u001b[0m\n\u001b[0;32m      6\u001b[0m \u001b[1;33m\u001b[0m\u001b[0m\n\u001b[0;32m      7\u001b[0m         \u001b[0mprint\u001b[0m\u001b[1;33m(\u001b[0m\u001b[1;34m'Speak!'\u001b[0m\u001b[1;33m)\u001b[0m\u001b[1;33m\u001b[0m\u001b[1;33m\u001b[0m\u001b[0m\n\u001b[1;32m----> 8\u001b[1;33m         \u001b[0mguess\u001b[0m \u001b[1;33m=\u001b[0m \u001b[0mrecognize_speech_from_mic\u001b[0m\u001b[1;33m(\u001b[0m\u001b[0minit_rec\u001b[0m\u001b[1;33m,\u001b[0m \u001b[0msr\u001b[0m\u001b[1;33m.\u001b[0m\u001b[0mMicrophone\u001b[0m\u001b[1;33m(\u001b[0m\u001b[1;33m)\u001b[0m\u001b[1;33m)\u001b[0m\u001b[1;33m\u001b[0m\u001b[1;33m\u001b[0m\u001b[0m\n\u001b[0m\u001b[0;32m      9\u001b[0m         \u001b[0mprint\u001b[0m\u001b[1;33m(\u001b[0m\u001b[0mguess\u001b[0m\u001b[1;33m[\u001b[0m\u001b[1;34m'transcription'\u001b[0m\u001b[1;33m]\u001b[0m\u001b[1;33m)\u001b[0m\u001b[1;33m\u001b[0m\u001b[1;33m\u001b[0m\u001b[0m\n\u001b[0;32m     10\u001b[0m         \u001b[1;32mif\u001b[0m \u001b[1;33m(\u001b[0m\u001b[0mguess\u001b[0m\u001b[1;33m[\u001b[0m\u001b[1;34m'transcription'\u001b[0m\u001b[1;33m]\u001b[0m \u001b[1;33m!=\u001b[0m \u001b[1;32mNone\u001b[0m\u001b[1;33m)\u001b[0m \u001b[1;32mand\u001b[0m \u001b[1;33m(\u001b[0m\u001b[1;34m'helen'\u001b[0m \u001b[1;32min\u001b[0m \u001b[0mguess\u001b[0m\u001b[1;33m[\u001b[0m\u001b[1;34m'transcription'\u001b[0m\u001b[1;33m]\u001b[0m\u001b[1;33m.\u001b[0m\u001b[0mlower\u001b[0m\u001b[1;33m(\u001b[0m\u001b[1;33m)\u001b[0m\u001b[1;33m)\u001b[0m\u001b[1;33m==\u001b[0m\u001b[1;32mTrue\u001b[0m\u001b[1;33m:\u001b[0m\u001b[1;33m\u001b[0m\u001b[1;33m\u001b[0m\u001b[0m\n",
      "\u001b[1;32m<ipython-input-8-4ea89a5f14e8>\u001b[0m in \u001b[0;36mrecognize_speech_from_mic\u001b[1;34m(recognizer, microphone)\u001b[0m\n\u001b[0;32m     22\u001b[0m     \u001b[1;32mwith\u001b[0m \u001b[0mmicrophone\u001b[0m \u001b[1;32mas\u001b[0m \u001b[0msource\u001b[0m\u001b[1;33m:\u001b[0m\u001b[1;33m\u001b[0m\u001b[1;33m\u001b[0m\u001b[0m\n\u001b[0;32m     23\u001b[0m         \u001b[0mrecognizer\u001b[0m\u001b[1;33m.\u001b[0m\u001b[0madjust_for_ambient_noise\u001b[0m\u001b[1;33m(\u001b[0m\u001b[0msource\u001b[0m\u001b[1;33m)\u001b[0m\u001b[1;33m\u001b[0m\u001b[1;33m\u001b[0m\u001b[0m\n\u001b[1;32m---> 24\u001b[1;33m         \u001b[0maudio\u001b[0m \u001b[1;33m=\u001b[0m \u001b[0mrecognizer\u001b[0m\u001b[1;33m.\u001b[0m\u001b[0mrecord\u001b[0m\u001b[1;33m(\u001b[0m\u001b[0msource\u001b[0m\u001b[1;33m,\u001b[0m\u001b[0mduration\u001b[0m\u001b[1;33m=\u001b[0m\u001b[1;36m4\u001b[0m\u001b[1;33m)\u001b[0m\u001b[1;33m\u001b[0m\u001b[1;33m\u001b[0m\u001b[0m\n\u001b[0m\u001b[0;32m     25\u001b[0m \u001b[1;33m\u001b[0m\u001b[0m\n\u001b[0;32m     26\u001b[0m     \u001b[1;31m# set up the response object\u001b[0m\u001b[1;33m\u001b[0m\u001b[1;33m\u001b[0m\u001b[1;33m\u001b[0m\u001b[0m\n",
      "\u001b[1;32m~\\anaconda3\\lib\\site-packages\\speech_recognition\\__init__.py\u001b[0m in \u001b[0;36mrecord\u001b[1;34m(self, source, duration, offset)\u001b[0m\n\u001b[0;32m    495\u001b[0m                     \u001b[0moffset_reached\u001b[0m \u001b[1;33m=\u001b[0m \u001b[1;32mTrue\u001b[0m\u001b[1;33m\u001b[0m\u001b[1;33m\u001b[0m\u001b[0m\n\u001b[0;32m    496\u001b[0m \u001b[1;33m\u001b[0m\u001b[0m\n\u001b[1;32m--> 497\u001b[1;33m             \u001b[0mbuffer\u001b[0m \u001b[1;33m=\u001b[0m \u001b[0msource\u001b[0m\u001b[1;33m.\u001b[0m\u001b[0mstream\u001b[0m\u001b[1;33m.\u001b[0m\u001b[0mread\u001b[0m\u001b[1;33m(\u001b[0m\u001b[0msource\u001b[0m\u001b[1;33m.\u001b[0m\u001b[0mCHUNK\u001b[0m\u001b[1;33m)\u001b[0m\u001b[1;33m\u001b[0m\u001b[1;33m\u001b[0m\u001b[0m\n\u001b[0m\u001b[0;32m    498\u001b[0m             \u001b[1;32mif\u001b[0m \u001b[0mlen\u001b[0m\u001b[1;33m(\u001b[0m\u001b[0mbuffer\u001b[0m\u001b[1;33m)\u001b[0m \u001b[1;33m==\u001b[0m \u001b[1;36m0\u001b[0m\u001b[1;33m:\u001b[0m \u001b[1;32mbreak\u001b[0m\u001b[1;33m\u001b[0m\u001b[1;33m\u001b[0m\u001b[0m\n\u001b[0;32m    499\u001b[0m \u001b[1;33m\u001b[0m\u001b[0m\n",
      "\u001b[1;32m~\\anaconda3\\lib\\site-packages\\speech_recognition\\__init__.py\u001b[0m in \u001b[0;36mread\u001b[1;34m(self, size)\u001b[0m\n\u001b[0;32m    159\u001b[0m \u001b[1;33m\u001b[0m\u001b[0m\n\u001b[0;32m    160\u001b[0m         \u001b[1;32mdef\u001b[0m \u001b[0mread\u001b[0m\u001b[1;33m(\u001b[0m\u001b[0mself\u001b[0m\u001b[1;33m,\u001b[0m \u001b[0msize\u001b[0m\u001b[1;33m)\u001b[0m\u001b[1;33m:\u001b[0m\u001b[1;33m\u001b[0m\u001b[1;33m\u001b[0m\u001b[0m\n\u001b[1;32m--> 161\u001b[1;33m             \u001b[1;32mreturn\u001b[0m \u001b[0mself\u001b[0m\u001b[1;33m.\u001b[0m\u001b[0mpyaudio_stream\u001b[0m\u001b[1;33m.\u001b[0m\u001b[0mread\u001b[0m\u001b[1;33m(\u001b[0m\u001b[0msize\u001b[0m\u001b[1;33m,\u001b[0m \u001b[0mexception_on_overflow\u001b[0m\u001b[1;33m=\u001b[0m\u001b[1;32mFalse\u001b[0m\u001b[1;33m)\u001b[0m\u001b[1;33m\u001b[0m\u001b[1;33m\u001b[0m\u001b[0m\n\u001b[0m\u001b[0;32m    162\u001b[0m \u001b[1;33m\u001b[0m\u001b[0m\n\u001b[0;32m    163\u001b[0m         \u001b[1;32mdef\u001b[0m \u001b[0mclose\u001b[0m\u001b[1;33m(\u001b[0m\u001b[0mself\u001b[0m\u001b[1;33m)\u001b[0m\u001b[1;33m:\u001b[0m\u001b[1;33m\u001b[0m\u001b[1;33m\u001b[0m\u001b[0m\n",
      "\u001b[1;32m~\\anaconda3\\lib\\site-packages\\pyaudio.py\u001b[0m in \u001b[0;36mread\u001b[1;34m(self, num_frames, exception_on_overflow)\u001b[0m\n\u001b[0;32m    606\u001b[0m                           paCanNotReadFromAnOutputOnlyStream)\n\u001b[0;32m    607\u001b[0m \u001b[1;33m\u001b[0m\u001b[0m\n\u001b[1;32m--> 608\u001b[1;33m         \u001b[1;32mreturn\u001b[0m \u001b[0mpa\u001b[0m\u001b[1;33m.\u001b[0m\u001b[0mread_stream\u001b[0m\u001b[1;33m(\u001b[0m\u001b[0mself\u001b[0m\u001b[1;33m.\u001b[0m\u001b[0m_stream\u001b[0m\u001b[1;33m,\u001b[0m \u001b[0mnum_frames\u001b[0m\u001b[1;33m,\u001b[0m \u001b[0mexception_on_overflow\u001b[0m\u001b[1;33m)\u001b[0m\u001b[1;33m\u001b[0m\u001b[1;33m\u001b[0m\u001b[0m\n\u001b[0m\u001b[0;32m    609\u001b[0m \u001b[1;33m\u001b[0m\u001b[0m\n\u001b[0;32m    610\u001b[0m     \u001b[1;32mdef\u001b[0m \u001b[0mget_read_available\u001b[0m\u001b[1;33m(\u001b[0m\u001b[0mself\u001b[0m\u001b[1;33m)\u001b[0m\u001b[1;33m:\u001b[0m\u001b[1;33m\u001b[0m\u001b[1;33m\u001b[0m\u001b[0m\n",
      "\u001b[1;31mKeyboardInterrupt\u001b[0m: "
     ]
    }
   ],
   "source": [
    "repeat = True\n",
    "while repeat:\n",
    "    \n",
    "    init_rec = sr.Recognizer()\n",
    "    for i in range(1000):\n",
    "\n",
    "        print('Speak!')\n",
    "        guess = recognize_speech_from_mic(init_rec, sr.Microphone())\n",
    "        print(guess['transcription'])\n",
    "        if (guess['transcription'] != None) and ('helen' in guess['transcription'].lower())==True:\n",
    "            break\n",
    "        if not guess[\"success\"]:\n",
    "            break\n",
    "        print(f\"{i}: NEXT LOOP\")\n",
    "\n",
    "\n",
    "    # 1\n",
    "    mytext = 'Hi.. how can I help you'\n",
    "    language = 'en'\n",
    "    myobj = gTTS(text=mytext, lang=language, slow=False)\n",
    "    myobj.save(\"welcome.mp3\")\n",
    "    os.system(\"welcome.mp3\")\n",
    "    countdown(4)\n",
    "    winsound.Beep(500, 200)\n",
    "\n",
    "    # 2\n",
    "    for i in range(100):\n",
    "                print('Speak!')\n",
    "                guess = recognize_speech_from_mic(init_rec, sr.Microphone())\n",
    "                print(guess['transcription'])\n",
    "                if guess[\"transcription\"]:\n",
    "                    break\n",
    "                if not guess[\"success\"]:\n",
    "                    break\n",
    "\n",
    "    loop = True\n",
    "    while loop:\n",
    "\n",
    "        try:\n",
    "\n",
    "\n",
    "           # 3                \n",
    "            doc = nlp(guess['transcription'])\n",
    "            doc_token = []\n",
    "\n",
    "            for token in doc:\n",
    "                if token.pos_ in ['ADJ','VERB','NN']:\n",
    "                    doc_token.append(token)\n",
    "\n",
    "            question = chatbot(guess['transcription'])\n",
    "            \n",
    "\n",
    "            if 'play' in guess['transcription'].lower():\n",
    "\n",
    "                youtube(guess['transcription'])\n",
    "                mytext = 'playing'\n",
    "                language = 'en'\n",
    "                myobj = gTTS(text=mytext, lang=language, slow=False)\n",
    "                myobj.save(\"playing.mp3\")\n",
    "                os.system(\"playing.mp3\")\n",
    "                break\n",
    "            \n",
    "            \n",
    "            if any(x in guess['transcription'].lower() for x in ['message','whatsapp','text']):\n",
    "                \n",
    "                whatsapp(guess['transcription'])\n",
    "                \n",
    "            \n",
    "            if 'time' in guess['transcription'].lower():\n",
    "                \n",
    "                mytext = 'the current time is '+ datetime.datetime.now().strftime('%I:%M %p')\n",
    "                language = 'en'\n",
    "                myobj = gTTS(text=mytext, lang=language, slow=False)\n",
    "                myobj.save(\"time.mp3\")\n",
    "                os.system(\"time.mp3\")\n",
    "                countdown(4)\n",
    "            \n",
    "            if any(x in guess['transcription'].lower() for x in ['cook','lunch','recipe','breakfast','meal','dinner','bake']):\n",
    "                recipe_function()                \n",
    "\n",
    "\n",
    "            for ent in nlp(guess['transcription']).ents:\n",
    "                if ent.label_ == 'GPE':\n",
    "                    print('GPE FOUND YES')\n",
    "\n",
    "\n",
    "                    # 4\n",
    "                    adj = []\n",
    "\n",
    "                    for token in nlp(question):\n",
    "\n",
    "                        if token.text in ['overcast','sunny','clear','rainy','haze','cloudy','broken','scattered','clouds','rain']:\n",
    "                            adj.append(token)\n",
    "\n",
    "\n",
    "                    if (len(doc_token) >= 1) & (len(adj) >= 1):\n",
    "                        similarity_doc_adj = doc_token[-1].similarity(nlp(' '.join([x.text for x in adj])))\n",
    "                        print()\n",
    "                        print(f'COSINE SIMILARITY SCORE - {similarity_doc_adj}')\n",
    "                        print()\n",
    "\n",
    "\n",
    "                   # 6\n",
    "                    mytext = chatbot2(guess['transcription'])\n",
    "                    language = 'en'\n",
    "                    myobj = gTTS(text=mytext, lang=language, slow=False)\n",
    "                    myobj.save(\"response.mp3\")\n",
    "                    os.system(\"response.mp3\")\n",
    "                    countdown(15)\n",
    "\n",
    "                elif (ent.label_ == \"PERSON\") & ('who' in guess['transcription'].lower()):\n",
    "                    \n",
    "                    try:\n",
    "\n",
    "                        mytext = wikipedia.summary(guess['transcription'],2)\n",
    "                        language = 'en'\n",
    "                        myobj = gTTS(text=mytext, lang=language, slow=False)\n",
    "                        myobj.save(\"response.mp3\")\n",
    "                        os.system(\"response.mp3\")\n",
    "\n",
    "                    except:\n",
    "                        print('NO WIKIPEDIA INFORMATION EXTRACTED')\n",
    "\n",
    "                    finally:\n",
    "                        pywhatkit.search(ent.text)\n",
    "                        countdown(round(len(wikipedia.summary(guess['transcription'],2))*0.095))\n",
    "\n",
    "                elif (ent.label_ == \"WORK_OF_ART\"):\n",
    "\n",
    "                    search_keyword=doc2.replace(' ','')\n",
    "                    html = urllib.request.urlopen(\"https://www.youtube.com/results?search_query=\" + search_keyword)\n",
    "                    video_ids = re.findall(r\"watch\\?v=(\\S{11})\", html.read().decode())\n",
    "                    print(\"https://www.youtube.com/watch?v=\" + video_ids[0])\n",
    "                    webbrowser.open(f\"https://www.youtube.com/watch?v={video_ids[0]}\")\n",
    "                    break\n",
    "\n",
    "\n",
    "\n",
    "\n",
    "            # 7\n",
    "            mytext = 'Is there anything else I can help you with?'\n",
    "            language = 'en'\n",
    "            myobj = gTTS(text=mytext, lang=language, slow=False)\n",
    "            myobj.save(\"next_question.mp3\")\n",
    "            os.system(\"next_question.mp3\")\n",
    "            countdown(4)\n",
    "            winsound.Beep(500, 200)\n",
    "\n",
    "            # 8\n",
    "            for i in range(100):\n",
    "\n",
    "                print('Speak!')\n",
    "                guess = recognize_speech_from_mic(init_rec, sr.Microphone())\n",
    "                print(guess['transcription'])\n",
    "                if guess[\"transcription\"]:\n",
    "                    break\n",
    "                if not guess[\"success\"]:\n",
    "                    break\n",
    "\n",
    "            # loop control\n",
    "            if 'thank you' in guess['transcription']:\n",
    "\n",
    "                mytext = 'Thank you Goodbye'\n",
    "                language = 'en'\n",
    "                myobj = gTTS(text=mytext, lang=language, slow=False)\n",
    "                myobj.save(\"Goodbye.mp3\")\n",
    "                os.system(\"Goodbye.mp3\")\n",
    "                countdown(3)\n",
    "                loop = False\n",
    "\n",
    "            else:\n",
    "                print()\n",
    "                print('NEXT STATEMENT')\n",
    "\n",
    "                print('--------------')\n",
    "                print()\n",
    "                pass\n",
    "\n",
    "        except:\n",
    "            print('the end')\n",
    "            break"
   ]
  },
  {
   "cell_type": "markdown",
   "metadata": {},
   "source": [
    "## Recipe"
   ]
  },
  {
   "cell_type": "code",
   "execution_count": 11,
   "metadata": {},
   "outputs": [
    {
     "name": "stdout",
     "output_type": "stream",
     "text": [
      "00:01\r"
     ]
    }
   ],
   "source": [
    "mytext = 'What accent is this'\n",
    "language = 'de'\n",
    "myobj = gTTS(text=mytext, lang=language, slow=False)\n",
    "myobj.save(\"step1.mp3\")\n",
    "os.system(\"step1.mp3\")\n",
    "countdown(round(len(mytext)*0.095))"
   ]
  },
  {
   "cell_type": "code",
   "execution_count": 52,
   "metadata": {},
   "outputs": [],
   "source": [
    "df_recipe = pd.read_excel('recipes.xlsx',sheet_name='chicken')"
   ]
  },
  {
   "cell_type": "code",
   "execution_count": 53,
   "metadata": {},
   "outputs": [
    {
     "data": {
      "text/html": [
       "<div>\n",
       "<style scoped>\n",
       "    .dataframe tbody tr th:only-of-type {\n",
       "        vertical-align: middle;\n",
       "    }\n",
       "\n",
       "    .dataframe tbody tr th {\n",
       "        vertical-align: top;\n",
       "    }\n",
       "\n",
       "    .dataframe thead th {\n",
       "        text-align: right;\n",
       "    }\n",
       "</style>\n",
       "<table border=\"1\" class=\"dataframe\">\n",
       "  <thead>\n",
       "    <tr style=\"text-align: right;\">\n",
       "      <th></th>\n",
       "      <th>Steps</th>\n",
       "      <th>Instructions</th>\n",
       "    </tr>\n",
       "  </thead>\n",
       "  <tbody>\n",
       "    <tr>\n",
       "      <th>0</th>\n",
       "      <td>step 0</td>\n",
       "      <td>Honey Garlic Chicken with brown rice?</td>\n",
       "    </tr>\n",
       "    <tr>\n",
       "      <th>1</th>\n",
       "      <td>step 1</td>\n",
       "      <td>step 1, we will need the following ingredients...</td>\n",
       "    </tr>\n",
       "    <tr>\n",
       "      <th>2</th>\n",
       "      <td>step 2</td>\n",
       "      <td>step 2, Heat olive oil in a large skillet over...</td>\n",
       "    </tr>\n",
       "    <tr>\n",
       "      <th>3</th>\n",
       "      <td>step 3</td>\n",
       "      <td>step 3, Lightly season the cubed chicken with ...</td>\n",
       "    </tr>\n",
       "    <tr>\n",
       "      <th>4</th>\n",
       "      <td>step 4</td>\n",
       "      <td>step 4, Add the chicken to the skillet about 3...</td>\n",
       "    </tr>\n",
       "    <tr>\n",
       "      <th>5</th>\n",
       "      <td>step 5</td>\n",
       "      <td>step 5, Whisk the honey, soy sauce, garlic and...</td>\n",
       "    </tr>\n",
       "    <tr>\n",
       "      <th>6</th>\n",
       "      <td>step 6</td>\n",
       "      <td>step 6, Add the sauce to the pan and toss to c...</td>\n",
       "    </tr>\n",
       "    <tr>\n",
       "      <th>7</th>\n",
       "      <td>step 7</td>\n",
       "      <td>finally, Serve with steamed rice and top with ...</td>\n",
       "    </tr>\n",
       "  </tbody>\n",
       "</table>\n",
       "</div>"
      ],
      "text/plain": [
       "     Steps                                       Instructions\n",
       "0   step 0              Honey Garlic Chicken with brown rice?\n",
       "1   step 1  step 1, we will need the following ingredients...\n",
       "2   step 2  step 2, Heat olive oil in a large skillet over...\n",
       "3   step 3  step 3, Lightly season the cubed chicken with ...\n",
       "4   step 4  step 4, Add the chicken to the skillet about 3...\n",
       "5  step 5   step 5, Whisk the honey, soy sauce, garlic and...\n",
       "6   step 6  step 6, Add the sauce to the pan and toss to c...\n",
       "7   step 7  finally, Serve with steamed rice and top with ..."
      ]
     },
     "execution_count": 53,
     "metadata": {},
     "output_type": "execute_result"
    }
   ],
   "source": [
    "df_recipe"
   ]
  },
  {
   "cell_type": "code",
   "execution_count": 54,
   "metadata": {},
   "outputs": [
    {
     "data": {
      "text/plain": [
       "'Honey Garlic Chicken with brown rice?'"
      ]
     },
     "execution_count": 54,
     "metadata": {},
     "output_type": "execute_result"
    }
   ],
   "source": [
    "df_recipe['Instructions'].iloc[0]"
   ]
  },
  {
   "cell_type": "code",
   "execution_count": 62,
   "metadata": {},
   "outputs": [],
   "source": [
    "if any(x in guess['transcription'].lower() for x in ['cook','lunch','recipe','breakfast','meal','dinner','bake'])\n",
    "#activation code into function"
   ]
  },
  {
   "cell_type": "code",
   "execution_count": 35,
   "metadata": {},
   "outputs": [
    {
     "name": "stdout",
     "output_type": "stream",
     "text": [
      "00:01\r"
     ]
    }
   ],
   "source": [
    "for num in range(len(df_ingrident_exp['text'])):\n",
    "        \n",
    "        mytext = df_ingrident_exp['text'].iloc[num]\n",
    "        language = 'en'\n",
    "        myobj = gTTS(text=mytext, lang=language, slow=False)\n",
    "        myobj.save(f\"recipe{num}.mp3\")\n",
    "        os.system(f\"recipe{num}.mp3\")\n",
    "        countdown(round(len(mytext)*0.095))"
   ]
  },
  {
   "cell_type": "code",
   "execution_count": 66,
   "metadata": {},
   "outputs": [],
   "source": [
    "def recipe_function():\n",
    "    \n",
    "    mytext = \"The following ingredients will expire in the coming days\"\n",
    "    language = 'en'\n",
    "    myobj = gTTS(text=mytext, lang=language, slow=False)\n",
    "    myobj.save(f\"recipe_step1.mp3\")\n",
    "    os.system(f\"recipe_step1.mp3\")\n",
    "    countdown(round(len(mytext)*0.095))\n",
    "\n",
    "    #reading the ingridents and when they will expire\n",
    "    for num in range(len(df_ingrident_exp['text'])):\n",
    "        \n",
    "        mytext = df_ingrident_exp['text'].iloc[num]\n",
    "        language = 'en'\n",
    "        myobj = gTTS(text=mytext, lang=language, slow=False)\n",
    "        myobj.save(\"recipe{num}.mp3\")\n",
    "        os.system(\"recipe{num}.mp3\")\n",
    "        countdown(round(len(mytext)*0.095))\n",
    "        \n",
    "    mytext = \"what would you like to cook with?\"\n",
    "    language = 'en'\n",
    "    myobj = gTTS(text=mytext, lang=language, slow=False)\n",
    "    myobj.save(\"recipe_step1.mp3\")\n",
    "    os.system(\"recipe_step1.mp3\")\n",
    "    countdown(round(len(mytext)*0.095))\n",
    "    \n",
    "    #ok lets cook with\n",
    "    init_rec = sr.Recognizer() \n",
    "    for i in range(100):\n",
    "        print('Speak!')\n",
    "        guess = recognize_speech_from_mic(init_rec, sr.Microphone())\n",
    "        print(guess['transcription'])\n",
    "        if guess[\"transcription\"] and any(x in guess['transcription'].lower() for x in ['chicken','coconut']):\n",
    "            break\n",
    "    \n",
    "    for ent in nlp(guess['transcription']).ents:\n",
    "        df_recipe = pd.read_excel('recipes.xlsx',sheet_name=f\"{ent}\")\n",
    "    \n",
    "    #df_recipe['Instructions'].iloc[0] - recipe name\n",
    "    mytext = \"Would you like to cook \" + df_recipe['Instructions'].iloc[0]\n",
    "    language = 'en'\n",
    "    myobj = gTTS(text=mytext, lang=language, slow=False)\n",
    "    myobj.save(\"recipe_step1.mp3\")\n",
    "    os.system(\"recipe_step1.mp3\")\n",
    "    countdown(round(len(mytext)*0.095))\n",
    "    \n",
    "    #yes or no but in our case a definte yes\n",
    "    init_rec = sr.Recognizer() \n",
    "    for i in range(100):\n",
    "        print('Speak!')\n",
    "        guess = recognize_speech_from_mic(init_rec, sr.Microphone())\n",
    "        print(guess['transcription'])\n",
    "        if guess[\"transcription\"] and any(x in guess['transcription'].lower() for x in ['yes','do','it']):\n",
    "            break\n",
    "    \n",
    "    for num in range(1,len(df_recipe['Instructions'])):\n",
    "        recepie_loop = True\n",
    "        while recepie_loop:\n",
    "            mytext = df_recipe['Instructions'].iloc[num]\n",
    "            language = 'en'\n",
    "            myobj = gTTS(text=mytext, lang=language, slow=False)\n",
    "            myobj.save(f\"step{num}.mp3\")\n",
    "            os.system(f\"step{num}.mp3\")\n",
    "            countdown(round(len(mytext)*0.095))\n",
    "            winsound.Beep(500, 200)\n",
    "\n",
    "            if 'finally' in mytext:\n",
    "                recepie_loop = False\n",
    "                break\n",
    "\n",
    "            else:        \n",
    "                init_rec = sr.Recognizer() \n",
    "                for i in range(100):\n",
    "\n",
    "\n",
    "                    print('Speak!')\n",
    "                    guess = recognize_speech_from_mic(init_rec, sr.Microphone())\n",
    "                    print(guess['transcription'])\n",
    "                    if guess[\"transcription\"] and any(x in guess['transcription'].lower() for x in ['repeat','again']):\n",
    "                        os.system(\"repeat.mp3\")\n",
    "                        countdown(1)\n",
    "                        break\n",
    "\n",
    "                    if guess[\"transcription\"] and any(x in guess['transcription'].lower() for x in ['next','ok','okay']):\n",
    "                        break\n",
    "\n",
    "            if guess[\"transcription\"] and any(x in guess['transcription'].lower() for x in ['next','ok','okay']):\n",
    "\n",
    "                recepie_loop=False\n",
    "                os.system(\"next.mp3\")\n",
    "                #countdown(1)\n",
    "                break"
   ]
  },
  {
   "cell_type": "code",
   "execution_count": 65,
   "metadata": {},
   "outputs": [
    {
     "name": "stdout",
     "output_type": "stream",
     "text": [
      "Speak!\n",
      "let's cook with chicken\n",
      "Speak!\n",
      "None\n",
      "Speak!\n",
      "None\n",
      "Speak!\n",
      "yes Nickelback\n",
      "Speak!\n",
      "can you repeat that\n",
      "Speak!\n",
      "okay next\n",
      "Speak!\n",
      "okay next\n",
      "Speak!\n",
      "okay next\n",
      "Speak!\n",
      "okay next\n",
      "Speak!\n",
      "okay next\n",
      "Speak!\n",
      "okay next\n",
      "00:01\r"
     ]
    }
   ],
   "source": [
    "mytext = \"The following ingredients will expire in the coming days\"\n",
    "language = 'en'\n",
    "myobj = gTTS(text=mytext, lang=language, slow=False)\n",
    "myobj.save(\"recipe_step1.mp3\")\n",
    "os.system(\"recipe_step1.mp3\")\n",
    "countdown(round(len(mytext)*0.095))\n",
    "\n",
    "#reading the ingridents and when they will expire\n",
    "for num in range(len(df_ingrident_exp['text'])):\n",
    "\n",
    "    mytext = df_ingrident_exp['text'].iloc[num]\n",
    "    language = 'en'\n",
    "    myobj = gTTS(text=mytext, lang=language, slow=False)\n",
    "    myobj.save(f\"recipe{num}.mp3\")\n",
    "    os.system(f\"recipe{num}.mp3\")\n",
    "    countdown(round(len(mytext)*0.095))\n",
    "\n",
    "mytext = \"what would you like to cook with?\"\n",
    "language = 'en'\n",
    "myobj = gTTS(text=mytext, lang=language, slow=False)\n",
    "myobj.save(\"recipe_step1.mp3\")\n",
    "os.system(\"recipe_step1.mp3\")\n",
    "countdown(round(len(mytext)*0.095))\n",
    "\n",
    "#ok lets cook with\n",
    "init_rec = sr.Recognizer() \n",
    "for i in range(100):\n",
    "    print('Speak!')\n",
    "    guess = recognize_speech_from_mic(init_rec, sr.Microphone())\n",
    "    print(guess['transcription'])\n",
    "    if guess[\"transcription\"] and any(x in guess['transcription'].lower() for x in ['chicken','coconut']):\n",
    "        break\n",
    "\n",
    "for ent in nlp(guess['transcription']).ents:\n",
    "    df_recipe = pd.read_excel('recipes.xlsx',sheet_name=f\"{ent}\")\n",
    "\n",
    "#df_recipe['Instructions'].iloc[0] - recipe name\n",
    "mytext = \"Would you like to cook \" + df_recipe['Instructions'].iloc[0]\n",
    "language = 'en'\n",
    "myobj = gTTS(text=mytext, lang=language, slow=False)\n",
    "myobj.save(\"recipe_step1.mp3\")\n",
    "os.system(\"recipe_step1.mp3\")\n",
    "countdown(round(len(mytext)*0.095))\n",
    "\n",
    "#yes or no but in our case a definte yes\n",
    "init_rec = sr.Recognizer() \n",
    "for i in range(100):\n",
    "    print('Speak!')\n",
    "    guess = recognize_speech_from_mic(init_rec, sr.Microphone())\n",
    "    print(guess['transcription'])\n",
    "    if guess[\"transcription\"] and any(x in guess['transcription'].lower() for x in ['yes','do','it']):\n",
    "        break\n",
    "\n",
    "for num in range(1,len(df_recipe['Instructions'])):\n",
    "    recepie_loop = True\n",
    "    while recepie_loop:\n",
    "        mytext = df_recipe['Instructions'].iloc[num]\n",
    "        language = 'en'\n",
    "        myobj = gTTS(text=mytext, lang=language, slow=False)\n",
    "        myobj.save(f\"step{num}.mp3\")\n",
    "        os.system(f\"step{num}.mp3\")\n",
    "        countdown(round(len(mytext)*0.095))\n",
    "        winsound.Beep(500, 200)\n",
    "\n",
    "        if 'finally' in mytext:\n",
    "            recepie_loop = False\n",
    "            break\n",
    "\n",
    "        else:        \n",
    "            init_rec = sr.Recognizer() \n",
    "            for i in range(100):\n",
    "\n",
    "\n",
    "                print('Speak!')\n",
    "                guess = recognize_speech_from_mic(init_rec, sr.Microphone())\n",
    "                print(guess['transcription'])\n",
    "                if guess[\"transcription\"] and any(x in guess['transcription'].lower() for x in ['repeat','again']):\n",
    "                    os.system(\"repeat.mp3\")\n",
    "                    countdown(1)\n",
    "                    break\n",
    "\n",
    "                if guess[\"transcription\"] and any(x in guess['transcription'].lower() for x in ['next','ok','okay']):\n",
    "                    break\n",
    "\n",
    "        if guess[\"transcription\"] and any(x in guess['transcription'].lower() for x in ['next','ok','okay']):\n",
    "\n",
    "            recepie_loop=False\n",
    "            os.system(\"next.mp3\")\n",
    "            #countdown(1)\n",
    "            break"
   ]
  },
  {
   "cell_type": "code",
   "execution_count": 19,
   "metadata": {},
   "outputs": [
    {
     "name": "stdout",
     "output_type": "stream",
     "text": [
      "chicken PRODUCT\n",
      "coconut PRODUCT\n"
     ]
    }
   ],
   "source": [
    "for ent in nlp('chicken,coconut').ents:\n",
    "    print(ent,ent.label_)"
   ]
  },
  {
   "cell_type": "code",
   "execution_count": 26,
   "metadata": {},
   "outputs": [],
   "source": [
    "#then yes and no but in our case yes try to look at alternative"
   ]
  },
  {
   "cell_type": "code",
   "execution_count": 161,
   "metadata": {},
   "outputs": [
    {
     "data": {
      "text/plain": [
       "0"
      ]
     },
     "execution_count": 161,
     "metadata": {},
     "output_type": "execute_result"
    }
   ],
   "source": [
    "mytext = 'then'\n",
    "language = 'en'\n",
    "myobj = gTTS(text=mytext, lang=language, slow=False)\n",
    "myobj.save(\"next.mp3\")\n",
    "os.system(\"next.mp3\")"
   ]
  },
  {
   "cell_type": "code",
   "execution_count": 162,
   "metadata": {},
   "outputs": [
    {
     "data": {
      "text/plain": [
       "0"
      ]
     },
     "execution_count": 162,
     "metadata": {},
     "output_type": "execute_result"
    }
   ],
   "source": [
    "mytext = 'sure'\n",
    "language = 'en'\n",
    "myobj = gTTS(text=mytext, lang=language, slow=False)\n",
    "myobj.save(\"repeat.mp3\")\n",
    "os.system(\"repeat.mp3\")"
   ]
  },
  {
   "cell_type": "code",
   "execution_count": 98,
   "metadata": {},
   "outputs": [
    {
     "ename": "NameError",
     "evalue": "name 'df_recipe' is not defined",
     "output_type": "error",
     "traceback": [
      "\u001b[1;31m---------------------------------------------------------------------------\u001b[0m",
      "\u001b[1;31mNameError\u001b[0m                                 Traceback (most recent call last)",
      "\u001b[1;32m<ipython-input-98-55c425623905>\u001b[0m in \u001b[0;36m<module>\u001b[1;34m\u001b[0m\n\u001b[1;32m----> 1\u001b[1;33m \u001b[1;32mfor\u001b[0m \u001b[0mnum\u001b[0m \u001b[1;32min\u001b[0m \u001b[0mrange\u001b[0m\u001b[1;33m(\u001b[0m\u001b[1;36m1\u001b[0m\u001b[1;33m,\u001b[0m\u001b[0mlen\u001b[0m\u001b[1;33m(\u001b[0m\u001b[0mdf_recipe\u001b[0m\u001b[1;33m[\u001b[0m\u001b[1;34m'Instructions'\u001b[0m\u001b[1;33m]\u001b[0m\u001b[1;33m)\u001b[0m\u001b[1;33m)\u001b[0m\u001b[1;33m:\u001b[0m\u001b[1;33m\u001b[0m\u001b[1;33m\u001b[0m\u001b[0m\n\u001b[0m\u001b[0;32m      2\u001b[0m \u001b[1;33m\u001b[0m\u001b[0m\n\u001b[0;32m      3\u001b[0m     \u001b[0mrecepie_loop\u001b[0m \u001b[1;33m=\u001b[0m \u001b[1;32mTrue\u001b[0m\u001b[1;33m\u001b[0m\u001b[1;33m\u001b[0m\u001b[0m\n\u001b[0;32m      4\u001b[0m \u001b[1;33m\u001b[0m\u001b[0m\n\u001b[0;32m      5\u001b[0m     \u001b[1;32mwhile\u001b[0m \u001b[0mrecepie_loop\u001b[0m\u001b[1;33m:\u001b[0m\u001b[1;33m\u001b[0m\u001b[1;33m\u001b[0m\u001b[0m\n",
      "\u001b[1;31mNameError\u001b[0m: name 'df_recipe' is not defined"
     ]
    }
   ],
   "source": [
    "for num in range(1,len(df_recipe['Instructions'])):\n",
    "    \n",
    "    recepie_loop = True\n",
    "    \n",
    "    while recepie_loop:\n",
    "        \n",
    "        mytext = df_recipe['Instructions'].iloc[num]\n",
    "        language = 'en'\n",
    "        myobj = gTTS(text=mytext, lang=language, slow=False)\n",
    "        myobj.save(f\"step{num}.mp3\")\n",
    "        os.system(f\"step{num}.mp3\")\n",
    "        countdown(round(len(mytext)*0.095))\n",
    "        winsound.Beep(500, 200)\n",
    "\n",
    "        if 'finally' in mytext:\n",
    "            recepie_loop = False\n",
    "            break\n",
    "\n",
    "        else:        \n",
    "            init_rec = sr.Recognizer() \n",
    "            for i in range(100):\n",
    "\n",
    "\n",
    "                print('Speak!')\n",
    "                guess = recognize_speech_from_mic(init_rec, sr.Microphone())\n",
    "                print(guess['transcription'])\n",
    "                if guess[\"transcription\"] and any(x in guess['transcription'].lower() for x in ['repeat','again']):\n",
    "                    os.system(\"repeat.mp3\")\n",
    "                    countdown(1)\n",
    "                    break\n",
    "                \n",
    "                if guess[\"transcription\"] and any(x in guess['transcription'].lower() for x in ['next','ok','okay']):\n",
    "                    break\n",
    "\n",
    "        if guess[\"transcription\"] and any(x in guess['transcription'].lower() for x in ['next','ok','okay']):\n",
    "\n",
    "            recepie_loop=False\n",
    "            os.system(\"next.mp3\")\n",
    "            #countdown(1)\n",
    "            break"
   ]
  },
  {
   "cell_type": "code",
   "execution_count": null,
   "metadata": {},
   "outputs": [],
   "source": []
  },
  {
   "cell_type": "code",
   "execution_count": 51,
   "metadata": {},
   "outputs": [],
   "source": [
    "now = datetime.datetime.now()\n",
    "c_t = now.strftime('%H:%M:%S')"
   ]
  },
  {
   "cell_type": "code",
   "execution_count": 52,
   "metadata": {},
   "outputs": [
    {
     "data": {
      "text/plain": [
       "'02:01:24'"
      ]
     },
     "execution_count": 52,
     "metadata": {},
     "output_type": "execute_result"
    }
   ],
   "source": [
    "c_t"
   ]
  },
  {
   "cell_type": "markdown",
   "metadata": {},
   "source": [
    "## Flight"
   ]
  },
  {
   "cell_type": "code",
   "execution_count": 163,
   "metadata": {},
   "outputs": [],
   "source": [
    "import pandas as pd\n",
    "df_city_codes = pd.read_excel('codes.xlsx',sheet_name='City Codes')\n",
    "df_month_codes = pd.read_excel('codes.xlsx',sheet_name='Month Codes')"
   ]
  },
  {
   "cell_type": "code",
   "execution_count": 164,
   "metadata": {},
   "outputs": [],
   "source": [
    "city_code = dict(zip(df_city_codes['City'],df_city_codes['Code']))\n",
    "month_code = dict(zip(df_month_codes['Month'],df_month_codes['Code']))"
   ]
  },
  {
   "cell_type": "code",
   "execution_count": 165,
   "metadata": {},
   "outputs": [],
   "source": [
    "month_code['Janurary'] = '01'\n",
    "month_code['Feburary'] = '02'\n",
    "month_code['March'] = '03'\n",
    "month_code['April'] = '04'\n",
    "month_code['May'] = '05'\n",
    "month_code['June'] = '06'\n",
    "month_code['July'] = '07'\n",
    "month_code['August'] = '08'\n",
    "month_code['September'] = '09'"
   ]
  },
  {
   "cell_type": "code",
   "execution_count": 11,
   "metadata": {},
   "outputs": [
    {
     "name": "stdout",
     "output_type": "stream",
     "text": [
      "Please say something\n",
      "Recognizing Now .... \n",
      "You have said \n",
      "can you please send Jose Mario a message\n",
      "Audio Recorded Successfully \n",
      " \n",
      "-------------------------------\n"
     ]
    }
   ],
   "source": [
    "r = sr.Recognizer()\n",
    " \n",
    "with sr.Microphone() as source:\n",
    "            r.adjust_for_ambient_noise(source)\n",
    "\n",
    "            print(\"Please say something\")\n",
    "\n",
    "            audio = r.listen(source)\n",
    "\n",
    "            print(\"Recognizing Now .... \")\n",
    "\n",
    "\n",
    "            # recognize speech using google\n",
    "\n",
    "            try:\n",
    "                print(\"You have said \\n\" + r.recognize_google(audio))\n",
    "                print(\"Audio Recorded Successfully \\n \")\n",
    "                print('-------------------------------')\n",
    "\n",
    "\n",
    "            except Exception as e:\n",
    "                print(\"Error :  \" + str(e))"
   ]
  },
  {
   "cell_type": "code",
   "execution_count": 12,
   "metadata": {},
   "outputs": [
    {
     "data": {
      "text/html": [
       "<span class=\"tex2jax_ignore\"><div class=\"entities\" style=\"line-height: 2.5; direction: ltr\">can you please send \n",
       "<mark class=\"entity\" style=\"background: #aa9cfc; padding: 0.45em 0.6em; margin: 0 0.25em; line-height: 1; border-radius: 0.35em;\">\n",
       "    Jose Mario\n",
       "    <span style=\"font-size: 0.8em; font-weight: bold; line-height: 1; border-radius: 0.35em; vertical-align: middle; margin-left: 0.5rem\">PERSON</span>\n",
       "</mark>\n",
       " a message</div></span>"
      ],
      "text/plain": [
       "<IPython.core.display.HTML object>"
      ]
     },
     "metadata": {},
     "output_type": "display_data"
    }
   ],
   "source": [
    "displacy.render(nlp(r.recognize_google(audio)), style='ent', jupyter=True, options={'distance': 110})"
   ]
  },
  {
   "cell_type": "code",
   "execution_count": 13,
   "metadata": {},
   "outputs": [],
   "source": [
    "input_text = nlp(r.recognize_google(audio))"
   ]
  },
  {
   "cell_type": "code",
   "execution_count": 14,
   "metadata": {},
   "outputs": [
    {
     "name": "stdout",
     "output_type": "stream",
     "text": [
      "Jose Mario\n"
     ]
    }
   ],
   "source": [
    "for ent in input_text.ents:\n",
    "    print(ent)"
   ]
  },
  {
   "cell_type": "code",
   "execution_count": 275,
   "metadata": {},
   "outputs": [],
   "source": [
    "city = []\n",
    "dates = []\n",
    "\n",
    "for ent in input_text.ents:\n",
    "    \n",
    "    if ent.label_ == \"GPE\":\n",
    "        city.append(ent)\n",
    "        #print(city)\n",
    "    elif ent.label_ == \"DATE\":\n",
    "        dates.append(ent)"
   ]
  },
  {
   "cell_type": "code",
   "execution_count": 270,
   "metadata": {},
   "outputs": [
    {
     "data": {
      "text/plain": [
       "'MAD'"
      ]
     },
     "execution_count": 270,
     "metadata": {},
     "output_type": "execute_result"
    }
   ],
   "source": [
    "city_code[str(city[0])]"
   ]
  },
  {
   "cell_type": "code",
   "execution_count": 271,
   "metadata": {},
   "outputs": [
    {
     "data": {
      "text/plain": [
       "'[May 24 till, May 25]'"
      ]
     },
     "execution_count": 271,
     "metadata": {},
     "output_type": "execute_result"
    }
   ],
   "source": [
    "str(dates).replace('th','').replace('nd','').replace('rd','')"
   ]
  },
  {
   "cell_type": "code",
   "execution_count": 195,
   "metadata": {},
   "outputs": [
    {
     "data": {
      "text/plain": [
       "24"
      ]
     },
     "execution_count": 195,
     "metadata": {},
     "output_type": "execute_result"
    }
   ],
   "source": [
    "[int(s) for s in str(dates[0]).replace('th','').replace('nd','').replace('rd','').split() if s.isdigit()]"
   ]
  },
  {
   "cell_type": "code",
   "execution_count": 172,
   "metadata": {},
   "outputs": [
    {
     "data": {
      "text/plain": [
       "'24'"
      ]
     },
     "execution_count": 172,
     "metadata": {},
     "output_type": "execute_result"
    }
   ],
   "source": [
    "str(dates[0][0]).replace('th','').replace('nd','').replace('rd','')"
   ]
  },
  {
   "cell_type": "code",
   "execution_count": 173,
   "metadata": {},
   "outputs": [
    {
     "data": {
      "text/plain": [
       "'04-24'"
      ]
     },
     "execution_count": 173,
     "metadata": {},
     "output_type": "execute_result"
    }
   ],
   "source": [
    "month_code[str(dates[0][1])]+'-'+str(dates[0][0]).replace('th','').replace('nd','').replace('rd','')"
   ]
  },
  {
   "cell_type": "code",
   "execution_count": 174,
   "metadata": {},
   "outputs": [
    {
     "data": {
      "text/plain": [
       "'04-24'"
      ]
     },
     "execution_count": 174,
     "metadata": {},
     "output_type": "execute_result"
    }
   ],
   "source": [
    "month_code[str(dates[1][1])]+'-'+str(dates[1][0]).replace('th','').replace('nd','').replace('rd','')"
   ]
  },
  {
   "cell_type": "code",
   "execution_count": 175,
   "metadata": {},
   "outputs": [],
   "source": [
    "def flight_price(x):\n",
    "    \n",
    "    input_text = nlp(x)\n",
    "    \n",
    "    city = []\n",
    "    dates = []\n",
    "    \n",
    "    for ent in input_text.ents:\n",
    "        if ent.label_ == \"GPE\":\n",
    "            city.append(ent)\n",
    "        elif ent.label_ == \"DATE\":\n",
    "            dates.append(ent)\n",
    "    \n",
    "    city_from = city_code[str(city[0])]\n",
    "    city_to = city_code[str(city[1])]\n",
    "    \n",
    "    dates = str(dates).replace('th','').replace('nd','').replace('rd','')\n",
    "    \n",
    "    date_from = month_code[str(dates[0][1])]+'-'+str(dates[0][0]).replace('th','').replace('nd','').replace('rd','')\n",
    "    date_to = month_code[str(dates[1][1])]+'-'+str(dates[1][0]).replace('th','').replace('nd','').replace('rd','')\n",
    "    \n",
    "    url = f\"https://flights.booking.com/flights/{city_from}-{city_to}/?type=ROUNDTRIP&adults=1&cabinClass=ECONOMY&children=&from={city_from}&to={city_to}&depart=2021-{date_from}&return=2021-{date_to}&sort=BEST&aid=304142&label=gen173nr-1DCAEoggI46AdIM1gEaEaIAQGYATG4ARfIAQzYAQPoAQH4AQKIAgGoAgO4ArW2_YMGwAIB0gIkMTExOTA1ZmEtMGE1Zi00OGI4LTk0MjYtYWUwZjIzOGM2YjE22AIE4AIB\"\n",
    "    \n",
    "    webbrowser.open(url)\n",
    "            \n",
    "    "
   ]
  },
  {
   "cell_type": "code",
   "execution_count": 328,
   "metadata": {},
   "outputs": [],
   "source": [
    "def flight_price(x):\n",
    "    \n",
    "    input_text = nlp(x)\n",
    "    \n",
    "    city = []\n",
    "    dates = []\n",
    "    \n",
    "    for ent in input_text.ents:\n",
    "        if ent.label_ == \"GPE\":\n",
    "            city.append(ent)\n",
    "        elif ent.label_ == \"DATE\":\n",
    "            dates.append(ent)\n",
    "    \n",
    "    city_from = city_code[str(city[0])]\n",
    "    city_to = city_code[str(city[1])]\n",
    "    \n",
    "    from spacy.matcher import Matcher\n",
    "    matcher = Matcher(nlp.vocab)\n",
    "    pattern1 = [{'LOWER':'janurary'}]\n",
    "    pattern2 = [{'LOWER':'feburary'}]\n",
    "    pattern3 = [{'LOWER':'march'}]\n",
    "    pattern4 = [{'LOWER':'april'}]\n",
    "    pattern5 = [{'LOWER':'may'}]\n",
    "    pattern6 = [{'LOWER':'june'}]\n",
    "    pattern7 = [{'LOWER':'july'}]\n",
    "    pattern8 = [{'LOWER':'august'}]\n",
    "    pattern9 = [{'LOWER':'september'}]\n",
    "    pattern10 = [{'LOWER':'october'}]\n",
    "    pattern11 = [{'LOWER':'november'}]\n",
    "    pattern12 = [{'LOWER':'december'}]\n",
    "    matcher.add('flight',patterns=[pattern1,pattern2,pattern3,pattern4,pattern5,pattern6,pattern7,pattern8,pattern9,pattern10,pattern11,pattern12],on_match=None)\n",
    "    found_matches1 = matcher(dates[0])\n",
    "    found_matches2 = matcher(dates[1])\n",
    "    #print(found_matches1)\n",
    "    #print(found_matches2)\n",
    "    \n",
    "    #dates = str(dates).replace('th','').replace('nd','').replace('rd','')\n",
    "    \n",
    "    date_from = month_code[str(dates[0][found_matches1[0][1]])]+'-'+str([int(s) for s in str(dates[0]).replace('th','').replace('nd','').replace('rd','').split() if s.isdigit()][0])\n",
    "    date_to = month_code[str(dates[1][found_matches2[0][1]])]+'-'+str([int(s) for s in str(dates[1]).replace('th','').replace('nd','').replace('rd','').split() if s.isdigit()][0])\n",
    "    \n",
    "    url = f\"https://flights.booking.com/flights/{city_from}-{city_to}/?type=ROUNDTRIP&adults=1&cabinClass=ECONOMY&children=&from={city_from}&to={city_to}&depart=2021-{date_from}&return=2021-{date_to}&sort=BEST&aid=304142&label=gen173nr-1DCAEoggI46AdIM1gEaEaIAQGYATG4ARfIAQzYAQPoAQH4AQKIAgGoAgO4ArW2_YMGwAIB0gIkMTExOTA1ZmEtMGE1Zi00OGI4LTk0MjYtYWUwZjIzOGM2YjE22AIE4AIB\"\n",
    "    \n",
    "    webbrowser.open(url)\n",
    "            \n",
    "    "
   ]
  },
  {
   "cell_type": "markdown",
   "metadata": {},
   "source": [
    "## Jokes"
   ]
  },
  {
   "cell_type": "code",
   "execution_count": 82,
   "metadata": {},
   "outputs": [],
   "source": [
    "from random import randint"
   ]
  },
  {
   "cell_type": "code",
   "execution_count": 83,
   "metadata": {},
   "outputs": [],
   "source": [
    "#activation code\n",
    "#if (x in guess['transcription'].lower() for x in ['feel','feeling'])"
   ]
  },
  {
   "cell_type": "code",
   "execution_count": 86,
   "metadata": {},
   "outputs": [],
   "source": [
    "text = 'I feel sad'"
   ]
  },
  {
   "cell_type": "code",
   "execution_count": 116,
   "metadata": {},
   "outputs": [
    {
     "name": "stdout",
     "output_type": "stream",
     "text": [
      "00:01\r"
     ]
    }
   ],
   "source": [
    "mytext = \"Well we can't have you feeling that way the whole day, do you want to hear a joke?\"\n",
    "language = 'en'\n",
    "myobj = gTTS(text=mytext, lang=language, slow=False)\n",
    "myobj.save(\"joke.mp3\")\n",
    "os.system(\"joke.mp3\")\n",
    "countdown(7)\n",
    "winsound.Beep(500, 200)"
   ]
  },
  {
   "cell_type": "code",
   "execution_count": 117,
   "metadata": {},
   "outputs": [
    {
     "name": "stdout",
     "output_type": "stream",
     "text": [
      "Speak!\n",
      "no thank you\n"
     ]
    }
   ],
   "source": [
    "def joke(text):\n",
    "    \n",
    "    if sia.polarity_scores(text)['compound'] > 0.1:\n",
    "\n",
    "        mytext = 'Call me crazy but I love to see other people happy, It makes me happy'\n",
    "        language = 'en'\n",
    "        myobj = gTTS(text=mytext, lang=language, slow=False)\n",
    "        myobj.save(\"happy.mp3\")\n",
    "        os.system(\"happy.mp3\")\n",
    "        countdown(round(len(mytext)*0.095))\n",
    "\n",
    "    if sia.polarity_scores(text)['compound'] < 0.1:\n",
    "\n",
    "        mytext = \"Well we can't have you feeling that way the whole day, do you want to hear a joke?\"\n",
    "        language = 'en'\n",
    "        myobj = gTTS(text=mytext, lang=language, slow=False)\n",
    "        myobj.save(\"joke.mp3\")\n",
    "        os.system(\"joke.mp3\")\n",
    "        countdown(7)\n",
    "        winsound.Beep(500, 200)\n",
    "\n",
    "        init_rec = sr.Recognizer() \n",
    "        for i in range(100):\n",
    "            print('Speak!')\n",
    "            guess = recognize_speech_from_mic(init_rec, sr.Microphone())\n",
    "            print(guess['transcription'])\n",
    "            if guess[\"transcription\"] and any(x in guess['transcription'].lower() for x in ['yes','no','ok','sure','tell']):\n",
    "                break\n",
    "            if not guess[\"success\"]:\n",
    "                break\n",
    "\n",
    "        if any(x in guess['transcription'].lower() for x in ['yes','please','sure','tell']):\n",
    "\n",
    "            joke = True\n",
    "            while joke:\n",
    "\n",
    "\n",
    "                df_joke = pd.read_excel('jokes v1.xlsx')\n",
    "                mytext = df_joke['Jokes'][randint(0,len(df_joke['Jokes']))]\n",
    "                language = 'en'\n",
    "                myobj = gTTS(text=mytext, lang=language, slow=False)\n",
    "                myobj.save(\"joke_text.mp3\")\n",
    "                os.system(\"joke_text.mp3\")\n",
    "                countdown(round(len(mytext)*0.095))\n",
    "\n",
    "                mytext = \"lol,would you like to hear another one?\"\n",
    "                language = 'en'\n",
    "                myobj = gTTS(text=mytext, lang=language, slow=False)\n",
    "                myobj.save(\"joke_again.mp3\")\n",
    "                os.system(\"joke_again.mp3\")\n",
    "                countdown(round(len(mytext)*0.095))\n",
    "                winsound.Beep(500, 200)\n",
    "\n",
    "                init_rec = sr.Recognizer() \n",
    "                for i in range(100):\n",
    "\n",
    "                    print('Speak!')\n",
    "                    guess = recognize_speech_from_mic(init_rec, sr.Microphone())\n",
    "                    print(guess['transcription'])\n",
    "\n",
    "                    if guess[\"transcription\"] and any(x in guess['transcription'].lower() for x in ['yes','ok','sure','tell']):\n",
    "                        break\n",
    "                    if guess[\"transcription\"] and ('no' in guess['transcription'].lower()):\n",
    "                        break\n",
    "\n",
    "                if guess[\"transcription\"] and ('no' in guess['transcription'].lower()):\n",
    "                        joke = False\n"
   ]
  },
  {
   "cell_type": "code",
   "execution_count": 92,
   "metadata": {
    "scrolled": true
   },
   "outputs": [
    {
     "data": {
      "text/plain": [
       "'How does Michael Jackson pick his nose?\\xa0From a catalogue.'"
      ]
     },
     "execution_count": 92,
     "metadata": {},
     "output_type": "execute_result"
    }
   ],
   "source": [
    "df_joke['Jokes'][randint(0,len(df_joke['Jokes']))]"
   ]
  },
  {
   "cell_type": "code",
   "execution_count": 57,
   "metadata": {},
   "outputs": [],
   "source": [
    "df_joke = pd.read_excel('jokes v1.xlsx')"
   ]
  },
  {
   "cell_type": "code",
   "execution_count": 62,
   "metadata": {},
   "outputs": [
    {
     "data": {
      "text/plain": [
       "'Did you hear the pasta makers in Italy revolted?It was a ravioli-tion.'"
      ]
     },
     "execution_count": 62,
     "metadata": {},
     "output_type": "execute_result"
    }
   ],
   "source": [
    "df_joke['Jokes'][0]"
   ]
  },
  {
   "cell_type": "code",
   "execution_count": 54,
   "metadata": {},
   "outputs": [
    {
     "name": "stdout",
     "output_type": "stream",
     "text": [
      "Speak!\n",
      "okay\n",
      "Speak!\n",
      "yes\n"
     ]
    }
   ],
   "source": [
    "init_rec = sr.Recognizer() \n",
    "for i in range(100):\n",
    "    print('Speak!')\n",
    "    guess = recognize_speech_from_mic(init_rec, sr.Microphone())\n",
    "    print(guess['transcription'])\n",
    "    if any(x in guess['transcription'].lower() for x in ['yes','no','ok']):\n",
    "        break\n"
   ]
  },
  {
   "cell_type": "code",
   "execution_count": 82,
   "metadata": {},
   "outputs": [
    {
     "name": "stdout",
     "output_type": "stream",
     "text": [
      "00:01\r"
     ]
    }
   ],
   "source": [
    "mytext = 'How does Michael Jackson pick his nose?\\xa0From a catalogue.'\n",
    "language = 'en'\n",
    "myobj = gTTS(text=mytext, lang=language, slow=False)\n",
    "myobj.save(\"joke.mp3\")\n",
    "os.system(\"joke.mp3\")\n",
    "countdown(round(len(mytext)*0.095))\n",
    "    "
   ]
  },
  {
   "cell_type": "code",
   "execution_count": 105,
   "metadata": {},
   "outputs": [],
   "source": [
    "doc = nlp('who is David Beckham')"
   ]
  },
  {
   "cell_type": "code",
   "execution_count": 107,
   "metadata": {},
   "outputs": [
    {
     "data": {
      "text/html": [
       "<span class=\"tex2jax_ignore\"><div class=\"entities\" style=\"line-height: 2.5; direction: ltr\">who is \n",
       "<mark class=\"entity\" style=\"background: #aa9cfc; padding: 0.45em 0.6em; margin: 0 0.25em; line-height: 1; border-radius: 0.35em;\">\n",
       "    David Beckham\n",
       "    <span style=\"font-size: 0.8em; font-weight: bold; line-height: 1; border-radius: 0.35em; vertical-align: middle; margin-left: 0.5rem\">PERSON</span>\n",
       "</mark>\n",
       "</div></span>"
      ],
      "text/plain": [
       "<IPython.core.display.HTML object>"
      ]
     },
     "metadata": {},
     "output_type": "display_data"
    }
   ],
   "source": [
    "displacy.render(doc, style='ent', jupyter=True, options={'distance': 110})"
   ]
  },
  {
   "cell_type": "code",
   "execution_count": 109,
   "metadata": {},
   "outputs": [],
   "source": [
    "#recipe_function()"
   ]
  },
  {
   "cell_type": "code",
   "execution_count": 8,
   "metadata": {},
   "outputs": [
    {
     "ename": "PageError",
     "evalue": "Page id \"google\\\" does not match any pages. Try another id!",
     "output_type": "error",
     "traceback": [
      "\u001b[1;31m---------------------------------------------------------------------------\u001b[0m",
      "\u001b[1;31mPageError\u001b[0m                                 Traceback (most recent call last)",
      "\u001b[1;32m<ipython-input-8-d37f989a7789>\u001b[0m in \u001b[0;36m<module>\u001b[1;34m\u001b[0m\n\u001b[1;32m----> 1\u001b[1;33m \u001b[0mpywhatkit\u001b[0m\u001b[1;33m.\u001b[0m\u001b[0minfo\u001b[0m\u001b[1;33m(\u001b[0m\u001b[1;34m'google'\u001b[0m\u001b[1;33m,\u001b[0m\u001b[0mlines\u001b[0m\u001b[1;33m=\u001b[0m\u001b[1;36m1\u001b[0m\u001b[1;33m)\u001b[0m\u001b[1;33m\u001b[0m\u001b[1;33m\u001b[0m\u001b[0m\n\u001b[0m",
      "\u001b[1;32m~\\anaconda3\\lib\\site-packages\\pywhatkit\\main.py\u001b[0m in \u001b[0;36minfo\u001b[1;34m(topic, lines)\u001b[0m\n\u001b[0;32m    129\u001b[0m \u001b[1;32mdef\u001b[0m \u001b[0minfo\u001b[0m\u001b[1;33m(\u001b[0m\u001b[0mtopic\u001b[0m\u001b[1;33m,\u001b[0m\u001b[0mlines\u001b[0m\u001b[1;33m=\u001b[0m\u001b[1;36m3\u001b[0m\u001b[1;33m)\u001b[0m\u001b[1;33m:\u001b[0m\u001b[1;33m\u001b[0m\u001b[1;33m\u001b[0m\u001b[0m\n\u001b[0;32m    130\u001b[0m     \u001b[1;34m'''Gives information on the topic'''\u001b[0m\u001b[1;33m\u001b[0m\u001b[1;33m\u001b[0m\u001b[0m\n\u001b[1;32m--> 131\u001b[1;33m     \u001b[0mspe\u001b[0m \u001b[1;33m=\u001b[0m \u001b[0mwikipedia\u001b[0m\u001b[1;33m.\u001b[0m\u001b[0msummary\u001b[0m\u001b[1;33m(\u001b[0m\u001b[0mtopic\u001b[0m\u001b[1;33m,\u001b[0m \u001b[0msentences\u001b[0m \u001b[1;33m=\u001b[0m \u001b[0mlines\u001b[0m\u001b[1;33m)\u001b[0m\u001b[1;33m\u001b[0m\u001b[1;33m\u001b[0m\u001b[0m\n\u001b[0m\u001b[0;32m    132\u001b[0m     \u001b[0mprint\u001b[0m\u001b[1;33m(\u001b[0m\u001b[0mspe\u001b[0m\u001b[1;33m)\u001b[0m\u001b[1;33m\u001b[0m\u001b[1;33m\u001b[0m\u001b[0m\n\u001b[0;32m    133\u001b[0m \u001b[1;33m\u001b[0m\u001b[0m\n",
      "\u001b[1;32m~\\anaconda3\\lib\\site-packages\\wikipedia\\util.py\u001b[0m in \u001b[0;36m__call__\u001b[1;34m(self, *args, **kwargs)\u001b[0m\n\u001b[0;32m     26\u001b[0m       \u001b[0mret\u001b[0m \u001b[1;33m=\u001b[0m \u001b[0mself\u001b[0m\u001b[1;33m.\u001b[0m\u001b[0m_cache\u001b[0m\u001b[1;33m[\u001b[0m\u001b[0mkey\u001b[0m\u001b[1;33m]\u001b[0m\u001b[1;33m\u001b[0m\u001b[1;33m\u001b[0m\u001b[0m\n\u001b[0;32m     27\u001b[0m     \u001b[1;32melse\u001b[0m\u001b[1;33m:\u001b[0m\u001b[1;33m\u001b[0m\u001b[1;33m\u001b[0m\u001b[0m\n\u001b[1;32m---> 28\u001b[1;33m       \u001b[0mret\u001b[0m \u001b[1;33m=\u001b[0m \u001b[0mself\u001b[0m\u001b[1;33m.\u001b[0m\u001b[0m_cache\u001b[0m\u001b[1;33m[\u001b[0m\u001b[0mkey\u001b[0m\u001b[1;33m]\u001b[0m \u001b[1;33m=\u001b[0m \u001b[0mself\u001b[0m\u001b[1;33m.\u001b[0m\u001b[0mfn\u001b[0m\u001b[1;33m(\u001b[0m\u001b[1;33m*\u001b[0m\u001b[0margs\u001b[0m\u001b[1;33m,\u001b[0m \u001b[1;33m**\u001b[0m\u001b[0mkwargs\u001b[0m\u001b[1;33m)\u001b[0m\u001b[1;33m\u001b[0m\u001b[1;33m\u001b[0m\u001b[0m\n\u001b[0m\u001b[0;32m     29\u001b[0m \u001b[1;33m\u001b[0m\u001b[0m\n\u001b[0;32m     30\u001b[0m     \u001b[1;32mreturn\u001b[0m \u001b[0mret\u001b[0m\u001b[1;33m\u001b[0m\u001b[1;33m\u001b[0m\u001b[0m\n",
      "\u001b[1;32m~\\anaconda3\\lib\\site-packages\\wikipedia\\wikipedia.py\u001b[0m in \u001b[0;36msummary\u001b[1;34m(title, sentences, chars, auto_suggest, redirect)\u001b[0m\n\u001b[0;32m    229\u001b[0m   \u001b[1;31m# use auto_suggest and redirect to get the correct article\u001b[0m\u001b[1;33m\u001b[0m\u001b[1;33m\u001b[0m\u001b[1;33m\u001b[0m\u001b[0m\n\u001b[0;32m    230\u001b[0m   \u001b[1;31m# also, use page's error checking to raise DisambiguationError if necessary\u001b[0m\u001b[1;33m\u001b[0m\u001b[1;33m\u001b[0m\u001b[1;33m\u001b[0m\u001b[0m\n\u001b[1;32m--> 231\u001b[1;33m   \u001b[0mpage_info\u001b[0m \u001b[1;33m=\u001b[0m \u001b[0mpage\u001b[0m\u001b[1;33m(\u001b[0m\u001b[0mtitle\u001b[0m\u001b[1;33m,\u001b[0m \u001b[0mauto_suggest\u001b[0m\u001b[1;33m=\u001b[0m\u001b[0mauto_suggest\u001b[0m\u001b[1;33m,\u001b[0m \u001b[0mredirect\u001b[0m\u001b[1;33m=\u001b[0m\u001b[0mredirect\u001b[0m\u001b[1;33m)\u001b[0m\u001b[1;33m\u001b[0m\u001b[1;33m\u001b[0m\u001b[0m\n\u001b[0m\u001b[0;32m    232\u001b[0m   \u001b[0mtitle\u001b[0m \u001b[1;33m=\u001b[0m \u001b[0mpage_info\u001b[0m\u001b[1;33m.\u001b[0m\u001b[0mtitle\u001b[0m\u001b[1;33m\u001b[0m\u001b[1;33m\u001b[0m\u001b[0m\n\u001b[0;32m    233\u001b[0m   \u001b[0mpageid\u001b[0m \u001b[1;33m=\u001b[0m \u001b[0mpage_info\u001b[0m\u001b[1;33m.\u001b[0m\u001b[0mpageid\u001b[0m\u001b[1;33m\u001b[0m\u001b[1;33m\u001b[0m\u001b[0m\n",
      "\u001b[1;32m~\\anaconda3\\lib\\site-packages\\wikipedia\\wikipedia.py\u001b[0m in \u001b[0;36mpage\u001b[1;34m(title, pageid, auto_suggest, redirect, preload)\u001b[0m\n\u001b[0;32m    274\u001b[0m         \u001b[1;31m# if there is no suggestion or search results, the page doesn't exist\u001b[0m\u001b[1;33m\u001b[0m\u001b[1;33m\u001b[0m\u001b[1;33m\u001b[0m\u001b[0m\n\u001b[0;32m    275\u001b[0m         \u001b[1;32mraise\u001b[0m \u001b[0mPageError\u001b[0m\u001b[1;33m(\u001b[0m\u001b[0mtitle\u001b[0m\u001b[1;33m)\u001b[0m\u001b[1;33m\u001b[0m\u001b[1;33m\u001b[0m\u001b[0m\n\u001b[1;32m--> 276\u001b[1;33m     \u001b[1;32mreturn\u001b[0m \u001b[0mWikipediaPage\u001b[0m\u001b[1;33m(\u001b[0m\u001b[0mtitle\u001b[0m\u001b[1;33m,\u001b[0m \u001b[0mredirect\u001b[0m\u001b[1;33m=\u001b[0m\u001b[0mredirect\u001b[0m\u001b[1;33m,\u001b[0m \u001b[0mpreload\u001b[0m\u001b[1;33m=\u001b[0m\u001b[0mpreload\u001b[0m\u001b[1;33m)\u001b[0m\u001b[1;33m\u001b[0m\u001b[1;33m\u001b[0m\u001b[0m\n\u001b[0m\u001b[0;32m    277\u001b[0m   \u001b[1;32melif\u001b[0m \u001b[0mpageid\u001b[0m \u001b[1;32mis\u001b[0m \u001b[1;32mnot\u001b[0m \u001b[1;32mNone\u001b[0m\u001b[1;33m:\u001b[0m\u001b[1;33m\u001b[0m\u001b[1;33m\u001b[0m\u001b[0m\n\u001b[0;32m    278\u001b[0m     \u001b[1;32mreturn\u001b[0m \u001b[0mWikipediaPage\u001b[0m\u001b[1;33m(\u001b[0m\u001b[0mpageid\u001b[0m\u001b[1;33m=\u001b[0m\u001b[0mpageid\u001b[0m\u001b[1;33m,\u001b[0m \u001b[0mpreload\u001b[0m\u001b[1;33m=\u001b[0m\u001b[0mpreload\u001b[0m\u001b[1;33m)\u001b[0m\u001b[1;33m\u001b[0m\u001b[1;33m\u001b[0m\u001b[0m\n",
      "\u001b[1;32m~\\anaconda3\\lib\\site-packages\\wikipedia\\wikipedia.py\u001b[0m in \u001b[0;36m__init__\u001b[1;34m(self, title, pageid, redirect, preload, original_title)\u001b[0m\n\u001b[0;32m    297\u001b[0m       \u001b[1;32mraise\u001b[0m \u001b[0mValueError\u001b[0m\u001b[1;33m(\u001b[0m\u001b[1;34m\"Either a title or a pageid must be specified\"\u001b[0m\u001b[1;33m)\u001b[0m\u001b[1;33m\u001b[0m\u001b[1;33m\u001b[0m\u001b[0m\n\u001b[0;32m    298\u001b[0m \u001b[1;33m\u001b[0m\u001b[0m\n\u001b[1;32m--> 299\u001b[1;33m     \u001b[0mself\u001b[0m\u001b[1;33m.\u001b[0m\u001b[0m__load\u001b[0m\u001b[1;33m(\u001b[0m\u001b[0mredirect\u001b[0m\u001b[1;33m=\u001b[0m\u001b[0mredirect\u001b[0m\u001b[1;33m,\u001b[0m \u001b[0mpreload\u001b[0m\u001b[1;33m=\u001b[0m\u001b[0mpreload\u001b[0m\u001b[1;33m)\u001b[0m\u001b[1;33m\u001b[0m\u001b[1;33m\u001b[0m\u001b[0m\n\u001b[0m\u001b[0;32m    300\u001b[0m \u001b[1;33m\u001b[0m\u001b[0m\n\u001b[0;32m    301\u001b[0m     \u001b[1;32mif\u001b[0m \u001b[0mpreload\u001b[0m\u001b[1;33m:\u001b[0m\u001b[1;33m\u001b[0m\u001b[1;33m\u001b[0m\u001b[0m\n",
      "\u001b[1;32m~\\anaconda3\\lib\\site-packages\\wikipedia\\wikipedia.py\u001b[0m in \u001b[0;36m__load\u001b[1;34m(self, redirect, preload)\u001b[0m\n\u001b[0;32m    343\u001b[0m     \u001b[1;32mif\u001b[0m \u001b[1;34m'missing'\u001b[0m \u001b[1;32min\u001b[0m \u001b[0mpage\u001b[0m\u001b[1;33m:\u001b[0m\u001b[1;33m\u001b[0m\u001b[1;33m\u001b[0m\u001b[0m\n\u001b[0;32m    344\u001b[0m       \u001b[1;32mif\u001b[0m \u001b[0mhasattr\u001b[0m\u001b[1;33m(\u001b[0m\u001b[0mself\u001b[0m\u001b[1;33m,\u001b[0m \u001b[1;34m'title'\u001b[0m\u001b[1;33m)\u001b[0m\u001b[1;33m:\u001b[0m\u001b[1;33m\u001b[0m\u001b[1;33m\u001b[0m\u001b[0m\n\u001b[1;32m--> 345\u001b[1;33m         \u001b[1;32mraise\u001b[0m \u001b[0mPageError\u001b[0m\u001b[1;33m(\u001b[0m\u001b[0mself\u001b[0m\u001b[1;33m.\u001b[0m\u001b[0mtitle\u001b[0m\u001b[1;33m)\u001b[0m\u001b[1;33m\u001b[0m\u001b[1;33m\u001b[0m\u001b[0m\n\u001b[0m\u001b[0;32m    346\u001b[0m       \u001b[1;32melse\u001b[0m\u001b[1;33m:\u001b[0m\u001b[1;33m\u001b[0m\u001b[1;33m\u001b[0m\u001b[0m\n\u001b[0;32m    347\u001b[0m         \u001b[1;32mraise\u001b[0m \u001b[0mPageError\u001b[0m\u001b[1;33m(\u001b[0m\u001b[0mpageid\u001b[0m\u001b[1;33m=\u001b[0m\u001b[0mself\u001b[0m\u001b[1;33m.\u001b[0m\u001b[0mpageid\u001b[0m\u001b[1;33m)\u001b[0m\u001b[1;33m\u001b[0m\u001b[1;33m\u001b[0m\u001b[0m\n",
      "\u001b[1;31mPageError\u001b[0m: Page id \"google\\\" does not match any pages. Try another id!"
     ]
    }
   ],
   "source": [
    "pywhatkit.info('google',lines=1)"
   ]
  },
  {
   "cell_type": "markdown",
   "metadata": {},
   "source": [
    "**Positive Sentiment**"
   ]
  },
  {
   "cell_type": "code",
   "execution_count": 52,
   "metadata": {},
   "outputs": [
    {
     "data": {
      "text/plain": [
       "{'neg': 0.0, 'neu': 0.429, 'pos': 0.571, 'compound': 0.6115}"
      ]
     },
     "execution_count": 52,
     "metadata": {},
     "output_type": "execute_result"
    }
   ],
   "source": [
    "sia.polarity_scores('I feel really happy today')"
   ]
  },
  {
   "cell_type": "markdown",
   "metadata": {},
   "source": [
    "**Negative Sentiment**"
   ]
  },
  {
   "cell_type": "code",
   "execution_count": 50,
   "metadata": {},
   "outputs": [
    {
     "data": {
      "text/plain": [
       "{'neg': 0.531, 'neu': 0.469, 'pos': 0.0, 'compound': -0.5256}"
      ]
     },
     "execution_count": 50,
     "metadata": {},
     "output_type": "execute_result"
    }
   ],
   "source": [
    "sia.polarity_scores('I feel really sad today')"
   ]
  },
  {
   "cell_type": "code",
   "execution_count": 36,
   "metadata": {},
   "outputs": [
    {
     "name": "stdout",
     "output_type": "stream",
     "text": [
      "00:01\r"
     ]
    }
   ],
   "source": [
    "mytext = \"The following ingredients will expire in the coming days\" + str(list(df_ingredient_exp['text']))\n",
    "language = 'en'\n",
    "myobj = gTTS(text=mytext, lang=language, slow=False)\n",
    "myobj.save(\"joke.mp3\")\n",
    "os.system(\"joke.mp3\")\n",
    "countdown(round(len(mytext)*0.095))"
   ]
  },
  {
   "cell_type": "code",
   "execution_count": 47,
   "metadata": {},
   "outputs": [
    {
     "data": {
      "text/plain": [
       "['salt',\n",
       " 'sugar',\n",
       " 'water',\n",
       " 'oil and fat',\n",
       " 'flavouring',\n",
       " 'dairy',\n",
       " 'vegetable oil and fat',\n",
       " 'cereal',\n",
       " 'vegetable',\n",
       " 'fruit',\n",
       " 'flour',\n",
       " 'wheat',\n",
       " 'root vegetable',\n",
       " 'vegetable oil',\n",
       " 'glucose',\n",
       " 'starch',\n",
       " 'cereal flour',\n",
       " 'milk',\n",
       " 'natural flavouring',\n",
       " 'emulsifier',\n",
       " 'spice',\n",
       " 'wheat flour',\n",
       " 'e330',\n",
       " 'herb',\n",
       " 'seed',\n",
       " 'sunflower oil',\n",
       " 'colour',\n",
       " 'preservative',\n",
       " 'cocoa',\n",
       " 'acid',\n",
       " 'e322',\n",
       " 'plant',\n",
       " 'onion',\n",
       " 'antioxidant',\n",
       " 'egg',\n",
       " 'dextrose',\n",
       " 'thickener',\n",
       " 'milk powder',\n",
       " 'e322i',\n",
       " 'yeast',\n",
       " 'rapeseed oil',\n",
       " 'garlic',\n",
       " 'pepper',\n",
       " 'glucose syrup',\n",
       " 'stabiliser',\n",
       " 'citrus fruit',\n",
       " 'animal',\n",
       " 'protein',\n",
       " 'tomato',\n",
       " 'nut',\n",
       " 'fruit juice',\n",
       " 'corn starch',\n",
       " 'palm oil and fat',\n",
       " 'cocoa butter',\n",
       " 'acidity regulator',\n",
       " 'cream',\n",
       " 'soya lecithin',\n",
       " 'cocoa paste',\n",
       " 'raising agent',\n",
       " 'vinegar',\n",
       " 'meat',\n",
       " 'e500',\n",
       " 'skimmed milk powder',\n",
       " 'rice',\n",
       " 'e300',\n",
       " 'modified starch',\n",
       " 'colza oil',\n",
       " 'ferment',\n",
       " 'pork',\n",
       " 'fat',\n",
       " 'malt',\n",
       " 'lemon',\n",
       " 'tree nut',\n",
       " 'sea salt',\n",
       " 'e415',\n",
       " 'cocoa powder',\n",
       " 'corn',\n",
       " 'lactose',\n",
       " 'e250',\n",
       " 'e412',\n",
       " 'carrot',\n",
       " 'pork meat',\n",
       " 'e471',\n",
       " 'palm oil',\n",
       " 'soya',\n",
       " 'animal protein',\n",
       " 'cheese',\n",
       " 'milk proteins',\n",
       " 'butter',\n",
       " 'potato starch',\n",
       " 'apple',\n",
       " 'e450',\n",
       " 'cane sugar',\n",
       " 'chocolate',\n",
       " 'whole milk powder',\n",
       " 'malted barley',\n",
       " 'olive oil',\n",
       " 'fructose',\n",
       " 'microbial culture',\n",
       " 'berries',\n",
       " 'lactic ferments',\n",
       " 'whey',\n",
       " 'e407',\n",
       " 'e440a',\n",
       " 'fish',\n",
       " 'maltodextrins',\n",
       " 'glucose-fructose syrup',\n",
       " 'milkfat',\n",
       " 'legume',\n",
       " 'enzyme',\n",
       " 'parsley',\n",
       " 'fat reduced cocoa powder',\n",
       " 'gluten',\n",
       " 'vanilla flavouring',\n",
       " 'alcohol',\n",
       " 'mustard',\n",
       " 'gelling agent',\n",
       " 'vitamins',\n",
       " 'potato',\n",
       " 'e202',\n",
       " 'vegetable fat',\n",
       " 'rice flour',\n",
       " 'whole milk',\n",
       " 'coagulating enzyme',\n",
       " 'e500ii',\n",
       " 'natural vanilla flavouring',\n",
       " 'vegetable protein',\n",
       " 'concentrated lemon juice',\n",
       " 'butterfat',\n",
       " 'yeast extract',\n",
       " 'orange',\n",
       " 'rennet',\n",
       " 'modified corn starch',\n",
       " 'almond',\n",
       " 'skimmed milk',\n",
       " 'hazelnut',\n",
       " 'e301',\n",
       " 'virgin olive oil',\n",
       " 'minerals',\n",
       " 'oat',\n",
       " 'honey',\n",
       " 'palm fat',\n",
       " 'extra virgin olive oil',\n",
       " 'flavour enhancer',\n",
       " 'fr:fruits des bois',\n",
       " 'e410',\n",
       " 'chili pepper',\n",
       " 'grape',\n",
       " 'poultry',\n",
       " 'black pepper',\n",
       " 'celery',\n",
       " 'purée',\n",
       " 'vanilla',\n",
       " 'e503',\n",
       " 'sugar syrup',\n",
       " 'sweetener',\n",
       " 'oily fish',\n",
       " 'invert sugar',\n",
       " 'sunflower lecithin',\n",
       " 'bell pepper',\n",
       " 'fiber',\n",
       " 'durum wheat',\n",
       " 'mustard seed',\n",
       " 'spice extract',\n",
       " 'sunflower',\n",
       " 'e160a',\n",
       " 'durum wheat semolina',\n",
       " 'e621',\n",
       " 'semolina',\n",
       " 'wheat gluten',\n",
       " 'lemon juice',\n",
       " 'e270',\n",
       " 'invert sugar syrup',\n",
       " 'egg yolk',\n",
       " 'basil',\n",
       " 'thyme',\n",
       " 'coconut',\n",
       " 'egg white',\n",
       " 'barley',\n",
       " 'vegetable fiber',\n",
       " 'wholemeal flour',\n",
       " 'iodised salt',\n",
       " 'beef',\n",
       " 'glazing agent',\n",
       " 'hops',\n",
       " 'barley malt extract',\n",
       " 'rice starch',\n",
       " 'e422',\n",
       " 'tapioca starch',\n",
       " 'raspberry',\n",
       " 'yogurt',\n",
       " 'whey powder',\n",
       " 'wheat starch',\n",
       " 'e160c',\n",
       " 'hydrolysed vegetable protein',\n",
       " 'palm',\n",
       " 'unrefined sugar',\n",
       " 'unrefined cane sugar',\n",
       " 'e414',\n",
       " 'wine',\n",
       " 'carob seeds',\n",
       " 'corn flour',\n",
       " 'e120',\n",
       " 'e428',\n",
       " 'dough',\n",
       " \"cow's milk\",\n",
       " 'cinnamon',\n",
       " 'e290',\n",
       " 'coriander',\n",
       " 'e420',\n",
       " 'coconut oil',\n",
       " 'paprika',\n",
       " 'soy protein',\n",
       " 'poultry meat',\n",
       " 'peanut',\n",
       " 'e950',\n",
       " 'e450i',\n",
       " 'carob seed flour',\n",
       " 'vanilla extract',\n",
       " 'alcohol vinegar',\n",
       " 'e375',\n",
       " 'sesame',\n",
       " 'tomato concentrate',\n",
       " 'oat flakes',\n",
       " 'vitamin d',\n",
       " 'e466',\n",
       " 'sauce',\n",
       " 'coating',\n",
       " 'spirit vinegar',\n",
       " 'chopped tomatoes',\n",
       " 'orange juice',\n",
       " 'mango',\n",
       " 'tomato purée',\n",
       " 'e316',\n",
       " 'whole egg',\n",
       " 'thiamin',\n",
       " 'oregano',\n",
       " 'e150',\n",
       " 'peach',\n",
       " 'whole wheat flour',\n",
       " 'sulfite',\n",
       " 'e150a',\n",
       " 'fresh cream',\n",
       " 'turmeric',\n",
       " 'chicken',\n",
       " 'e101',\n",
       " 'wine vinegar',\n",
       " 'e331',\n",
       " 'animal fat',\n",
       " 'mushroom',\n",
       " 'e296',\n",
       " 'mineral water',\n",
       " 'rosemary',\n",
       " 'nutmeg',\n",
       " 'garlic powder',\n",
       " 'apple juice',\n",
       " 'pasteurised milk',\n",
       " 'herbs and spices',\n",
       " 'beef meat',\n",
       " 'white wine',\n",
       " 'strawberry',\n",
       " 'humectant',\n",
       " 'e955',\n",
       " 'e903',\n",
       " 'folic acid',\n",
       " \"baker's yeast\",\n",
       " 'folate',\n",
       " 'fresh egg',\n",
       " 'white pepper',\n",
       " 'e1404',\n",
       " 'e211',\n",
       " 'blueberry',\n",
       " 'e100',\n",
       " 'milk chocolate',\n",
       " 'iron',\n",
       " 'vitamin b6',\n",
       " 'soya flour',\n",
       " 'smoke',\n",
       " 'e160ai',\n",
       " 'e503ii',\n",
       " 'lemon juice concentrate',\n",
       " 'e341',\n",
       " 'pineapple',\n",
       " 'natural lemon flavouring',\n",
       " 'lactose and milk proteins',\n",
       " 'sunflower seed',\n",
       " 'soya bean',\n",
       " 'chicken meat',\n",
       " 'blackcurrant',\n",
       " 'shellfish',\n",
       " 'ginger',\n",
       " 'ham',\n",
       " 'crushed tomato',\n",
       " 'e392',\n",
       " 'semi-skimmed milk',\n",
       " 'fat reduced cocoa',\n",
       " 'margarine',\n",
       " 'bacon',\n",
       " 'carbonated water',\n",
       " 'e252',\n",
       " 'e163',\n",
       " 'broth',\n",
       " 'lard',\n",
       " 'cream powder',\n",
       " 'shallot',\n",
       " 'pear',\n",
       " 'beans',\n",
       " 'leek',\n",
       " 'cumin seeds',\n",
       " 'condensed milk',\n",
       " 'tea',\n",
       " 'coconut fat',\n",
       " 'palm kernel oil and fat',\n",
       " 'banana',\n",
       " 'bread crumbs',\n",
       " 'rye',\n",
       " 'onion powder',\n",
       " 'flour treatment agent',\n",
       " 'cucumber',\n",
       " 'chocolate powder',\n",
       " 'sodium',\n",
       " 'anti-caking agent',\n",
       " 'natural mineral water',\n",
       " 'e282',\n",
       " 'e306',\n",
       " 'salt from guérande',\n",
       " 'rye flour',\n",
       " 'e224',\n",
       " 'fruit pectin',\n",
       " 'e951',\n",
       " 'modified tapioca starch',\n",
       " 'clove',\n",
       " 'red bell pepper',\n",
       " 'e262',\n",
       " 'bay leaf',\n",
       " 'tomato powder',\n",
       " 'courgette',\n",
       " 'e464',\n",
       " 'apricot',\n",
       " 'coffee',\n",
       " 'white fish',\n",
       " 'vitamin b12',\n",
       " 'vitamin e',\n",
       " 'elder',\n",
       " 'caramelised sugar',\n",
       " 'agave syrup',\n",
       " 'tomato juice',\n",
       " 'vitamin c',\n",
       " 'sodium citrate',\n",
       " 'palm kernel oil',\n",
       " 'malted wheat flour',\n",
       " 'champignon',\n",
       " 'pantothenic acid',\n",
       " 'chives',\n",
       " 'beetroot',\n",
       " 'filling',\n",
       " 'vanillin',\n",
       " 'sweet whey',\n",
       " 'salmon',\n",
       " 'fresh milk',\n",
       " 'fruit juice concentrate',\n",
       " 'smoke flavouring',\n",
       " 'sweet whey powder',\n",
       " 'pumpkin',\n",
       " 'cornmeal',\n",
       " 'cashew nuts',\n",
       " 'raisin',\n",
       " 'vegetarian rennet',\n",
       " 'spinach',\n",
       " 'safflower',\n",
       " 'brown rice',\n",
       " 'e160',\n",
       " 'microbial rennet',\n",
       " 'salad',\n",
       " 'rapeseed',\n",
       " 'e170',\n",
       " 'dill',\n",
       " 'concentrated apple juice',\n",
       " 'shea butter',\n",
       " 'e160b',\n",
       " 'chocolate pieces',\n",
       " 'e171',\n",
       " 'orange zest',\n",
       " 'e965',\n",
       " 'vitamin a',\n",
       " 'mango puree',\n",
       " 'e200',\n",
       " 'soy sauce',\n",
       " 'e150d',\n",
       " 'syrup',\n",
       " 'dijon mustard',\n",
       " 'e476',\n",
       " 'raw milk',\n",
       " 'e451',\n",
       " 'tuna',\n",
       " 'barley flour',\n",
       " 'pasteurized cream',\n",
       " 'olives',\n",
       " 'powdered egg white',\n",
       " 'raspberry puree',\n",
       " 'caramel syrup',\n",
       " 'fennel',\n",
       " 'e170i',\n",
       " 'blackberry',\n",
       " 'sucrose',\n",
       " 'anchovy',\n",
       " 'grape sugar',\n",
       " 'wheat bran',\n",
       " 'chia seed']"
      ]
     },
     "execution_count": 47,
     "metadata": {},
     "output_type": "execute_result"
    }
   ],
   "source": [
    "list(df_ingrident['Ingredient'])"
   ]
  },
  {
   "cell_type": "code",
   "execution_count": 23,
   "metadata": {},
   "outputs": [],
   "source": [
    "df_joke = pd.read_excel('jokes v1.xlsx')"
   ]
  },
  {
   "cell_type": "code",
   "execution_count": 28,
   "metadata": {},
   "outputs": [
    {
     "data": {
      "text/plain": [
       "0     Did you hear the pasta makers in Italy revolte...\n",
       "1     What are Mexicans favorite sport ? Cross country.\n",
       "2     Why do the French eat snails? They don’t like ...\n",
       "3     How do you get a pig moving in Spain?You say J...\n",
       "4     Someone stole my microsoft office and they're ...\n",
       "5     What did Jay-Z call his wife before they got m...\n",
       "6     How do you find Will Smith in a snowstorm? Loo...\n",
       "7     How does Michael Jackson pick his nose? From a...\n",
       "8     What do you call it when Batman skips church? ...\n",
       "9     Why did Mickey go into outer space?To find Pluto!\n",
       "10    When Chuck Norris does a push-up, he isn't lif...\n",
       "11    You should always knock on the fridge door bef...\n",
       "12    I broke my finger last week. On the other hand...\n",
       "Name: Jokes, dtype: object"
      ]
     },
     "execution_count": 28,
     "metadata": {},
     "output_type": "execute_result"
    }
   ],
   "source": [
    "df_joke['Jokes']"
   ]
  },
  {
   "cell_type": "code",
   "execution_count": 30,
   "metadata": {},
   "outputs": [
    {
     "name": "stdout",
     "output_type": "stream",
     "text": [
      "00:01\r"
     ]
    }
   ],
   "source": [
    "df_joke = pd.read_excel('jokes v1.xlsx')\n",
    "for num in range(len(df_joke['Jokes'])):\n",
    "    \n",
    "    mytext = df_joke['Jokes'].iloc[num]\n",
    "    language = 'en'\n",
    "    myobj = gTTS(text=mytext, lang=language, slow=False)\n",
    "    myobj.save(f\"joke{num}.mp3\")\n",
    "    os.system(f\"joke{num}.mp3\")\n",
    "    countdown(round(len(mytext)*0.095))"
   ]
  },
  {
   "cell_type": "code",
   "execution_count": null,
   "metadata": {},
   "outputs": [],
   "source": []
  }
 ],
 "metadata": {
  "kernelspec": {
   "display_name": "Python 3",
   "language": "python",
   "name": "python3"
  },
  "language_info": {
   "codemirror_mode": {
    "name": "ipython",
    "version": 3
   },
   "file_extension": ".py",
   "mimetype": "text/x-python",
   "name": "python",
   "nbconvert_exporter": "python",
   "pygments_lexer": "ipython3",
   "version": "3.7.6"
  }
 },
 "nbformat": 4,
 "nbformat_minor": 4
}
